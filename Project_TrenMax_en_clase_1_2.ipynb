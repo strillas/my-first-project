{
  "nbformat": 4,
  "nbformat_minor": 0,
  "metadata": {
    "language_info": {
      "codemirror_mode": {
        "name": "ipython",
        "version": 3
      },
      "file_extension": ".py",
      "mimetype": "text/x-python",
      "name": "python",
      "nbconvert_exporter": "python",
      "pygments_lexer": "ipython3",
      "version": "3.8.5-final"
    },
    "orig_nbformat": 2,
    "kernelspec": {
      "name": "python3",
      "display_name": "Python 3.8.5 64-bit ('base': conda)",
      "metadata": {
        "interpreter": {
          "hash": "15ad3da4b4c61c3c846aae53763500b4377007d3fd583d900e0660560d786cf6"
        }
      }
    },
    "colab": {
      "provenance": [],
      "include_colab_link": true
    }
  },
  "cells": [
    {
      "cell_type": "markdown",
      "metadata": {
        "id": "view-in-github",
        "colab_type": "text"
      },
      "source": [
        "<a href=\"https://colab.research.google.com/github/strillas/my-first-project/blob/master/Project_TrenMax_en_clase_1_2.ipynb\" target=\"_parent\"><img src=\"https://colab.research.google.com/assets/colab-badge.svg\" alt=\"Open In Colab\"/></a>"
      ]
    },
    {
      "cell_type": "markdown",
      "metadata": {
        "id": "WnYTJkZfndyq"
      },
      "source": [
        "## MASTER DATA SCIENCE: NUCLIO\n",
        "## PROFESOR: JOSEPH GALLART\n",
        "## PROJECT TRENMAX 1/2"
      ]
    },
    {
      "cell_type": "code",
      "metadata": {
        "id": "eepPduAVp-fA",
        "colab": {
          "base_uri": "https://localhost:8080/"
        },
        "outputId": "527902dc-ea31-4c10-d63c-331a002e2af4"
      },
      "source": [
        "from google.colab import drive\n",
        "drive.mount('/content/drive')"
      ],
      "execution_count": 72,
      "outputs": [
        {
          "output_type": "stream",
          "name": "stdout",
          "text": [
            "Drive already mounted at /content/drive; to attempt to forcibly remount, call drive.mount(\"/content/drive\", force_remount=True).\n"
          ]
        }
      ]
    },
    {
      "cell_type": "code",
      "metadata": {
        "id": "1iUgwBhFndyv"
      },
      "source": [
        "#importamos librería\n",
        "import pandas as pd\n",
        "import numpy as np\n",
        "import matplotlib.pyplot as plt\n",
        "import seaborn as sns\n",
        "\n",
        "from sklearn.preprocessing import LabelEncoder,MinMaxScaler\n",
        "\n",
        "import folium\n",
        "import plotly.express as px"
      ],
      "execution_count": 73,
      "outputs": []
    },
    {
      "cell_type": "code",
      "metadata": {
        "id": "qQDwg2ZOndy0"
      },
      "source": [
        "#LEEMOS EL FICHERO DE RENFE"
      ],
      "execution_count": null,
      "outputs": []
    },
    {
      "cell_type": "code",
      "source": [
        "from google.colab import drive\n",
        "drive.mount('/content/drive')"
      ],
      "metadata": {
        "id": "IpYxNAv5rpWo",
        "colab": {
          "base_uri": "https://localhost:8080/"
        },
        "outputId": "a89cbebb-35da-49ef-fff5-c42bf8a503d5"
      },
      "execution_count": 3,
      "outputs": [
        {
          "output_type": "stream",
          "name": "stdout",
          "text": [
            "Drive already mounted at /content/drive; to attempt to forcibly remount, call drive.mount(\"/content/drive\", force_remount=True).\n"
          ]
        }
      ]
    },
    {
      "cell_type": "code",
      "source": [
        "df_renfe = pd.read_csv('/content/drive/MyDrive/renfe.csv')"
      ],
      "metadata": {
        "id": "OEHdng6smWno"
      },
      "execution_count": 75,
      "outputs": []
    },
    {
      "cell_type": "code",
      "source": [
        "df_renfe"
      ],
      "metadata": {
        "colab": {
          "base_uri": "https://localhost:8080/",
          "height": 597
        },
        "id": "VQElYoERmkgo",
        "outputId": "83172bbc-babd-49dd-f97a-24515ca22098"
      },
      "execution_count": 119,
      "outputs": [
        {
          "output_type": "execute_result",
          "data": {
            "text/plain": [
              "             FECHA_CONSULTA         FECHA_INICIO            FECHA_FIN  \\\n",
              "0       2019-05-25 01:43:03  2019-06-28 20:36:00  2019-06-28 23:14:00   \n",
              "1       2019-06-22 13:05:11  2019-07-14 10:00:00  2019-07-14 13:10:00   \n",
              "2       2019-04-17 06:24:03  2019-05-23 13:40:00  2019-05-23 16:10:00   \n",
              "3       2019-05-10 21:21:59  2019-05-29 14:50:00  2019-05-29 22:30:00   \n",
              "4       2019-05-09 19:43:37  2019-06-26 13:25:00  2019-06-26 16:24:00   \n",
              "...                     ...                  ...                  ...   \n",
              "383563  2019-05-06 05:11:53  2019-05-10 19:40:00  2019-05-10 21:29:00   \n",
              "383564  2019-06-19 21:48:56  2019-08-05 20:00:00  2019-08-05 23:10:00   \n",
              "383565  2019-04-24 23:21:44  2019-04-29 16:15:00  2019-04-29 17:55:00   \n",
              "383566  2019-05-27 21:05:19  2019-07-07 15:00:00  2019-07-07 17:21:00   \n",
              "383567  2019-05-27 15:04:14  2019-06-16 18:35:00  2019-06-16 20:21:00   \n",
              "\n",
              "       CIUDAD_ORIGEN CIUDAD_DESTINO TIPO_TREN TIPO_TARIFA       CLASE  PRECIO  \n",
              "0            SEVILLA         MADRID     ALVIA    Flexible     Turista   67.20  \n",
              "1          BARCELONA         MADRID       AVE    Flexible     Turista  107.70  \n",
              "2            SEVILLA         MADRID       AVE       Promo     Turista   47.30  \n",
              "3           VALENCIA         MADRID  REGIONAL  Adulto ida     Turista   28.35  \n",
              "4             MADRID      BARCELONA   AVE-TGV       Promo     Turista   66.75  \n",
              "...              ...            ...       ...         ...         ...     ...  \n",
              "383563        MADRID       VALENCIA       AVE    Flexible         NaN   73.10  \n",
              "383564     BARCELONA         MADRID       AVE       Promo  Preferente   54.45  \n",
              "383565      VALENCIA         MADRID       AVE       Promo     Turista   27.80  \n",
              "383566        MADRID        SEVILLA       AVE       Promo         NaN   47.30  \n",
              "383567      VALENCIA         MADRID       AVE    Flexible     Turista   73.10  \n",
              "\n",
              "[383568 rows x 9 columns]"
            ],
            "text/html": [
              "\n",
              "  <div id=\"df-799d3e9a-1792-40b2-9e6f-7965453c901d\" class=\"colab-df-container\">\n",
              "    <div>\n",
              "<style scoped>\n",
              "    .dataframe tbody tr th:only-of-type {\n",
              "        vertical-align: middle;\n",
              "    }\n",
              "\n",
              "    .dataframe tbody tr th {\n",
              "        vertical-align: top;\n",
              "    }\n",
              "\n",
              "    .dataframe thead th {\n",
              "        text-align: right;\n",
              "    }\n",
              "</style>\n",
              "<table border=\"1\" class=\"dataframe\">\n",
              "  <thead>\n",
              "    <tr style=\"text-align: right;\">\n",
              "      <th></th>\n",
              "      <th>FECHA_CONSULTA</th>\n",
              "      <th>FECHA_INICIO</th>\n",
              "      <th>FECHA_FIN</th>\n",
              "      <th>CIUDAD_ORIGEN</th>\n",
              "      <th>CIUDAD_DESTINO</th>\n",
              "      <th>TIPO_TREN</th>\n",
              "      <th>TIPO_TARIFA</th>\n",
              "      <th>CLASE</th>\n",
              "      <th>PRECIO</th>\n",
              "    </tr>\n",
              "  </thead>\n",
              "  <tbody>\n",
              "    <tr>\n",
              "      <th>0</th>\n",
              "      <td>2019-05-25 01:43:03</td>\n",
              "      <td>2019-06-28 20:36:00</td>\n",
              "      <td>2019-06-28 23:14:00</td>\n",
              "      <td>SEVILLA</td>\n",
              "      <td>MADRID</td>\n",
              "      <td>ALVIA</td>\n",
              "      <td>Flexible</td>\n",
              "      <td>Turista</td>\n",
              "      <td>67.20</td>\n",
              "    </tr>\n",
              "    <tr>\n",
              "      <th>1</th>\n",
              "      <td>2019-06-22 13:05:11</td>\n",
              "      <td>2019-07-14 10:00:00</td>\n",
              "      <td>2019-07-14 13:10:00</td>\n",
              "      <td>BARCELONA</td>\n",
              "      <td>MADRID</td>\n",
              "      <td>AVE</td>\n",
              "      <td>Flexible</td>\n",
              "      <td>Turista</td>\n",
              "      <td>107.70</td>\n",
              "    </tr>\n",
              "    <tr>\n",
              "      <th>2</th>\n",
              "      <td>2019-04-17 06:24:03</td>\n",
              "      <td>2019-05-23 13:40:00</td>\n",
              "      <td>2019-05-23 16:10:00</td>\n",
              "      <td>SEVILLA</td>\n",
              "      <td>MADRID</td>\n",
              "      <td>AVE</td>\n",
              "      <td>Promo</td>\n",
              "      <td>Turista</td>\n",
              "      <td>47.30</td>\n",
              "    </tr>\n",
              "    <tr>\n",
              "      <th>3</th>\n",
              "      <td>2019-05-10 21:21:59</td>\n",
              "      <td>2019-05-29 14:50:00</td>\n",
              "      <td>2019-05-29 22:30:00</td>\n",
              "      <td>VALENCIA</td>\n",
              "      <td>MADRID</td>\n",
              "      <td>REGIONAL</td>\n",
              "      <td>Adulto ida</td>\n",
              "      <td>Turista</td>\n",
              "      <td>28.35</td>\n",
              "    </tr>\n",
              "    <tr>\n",
              "      <th>4</th>\n",
              "      <td>2019-05-09 19:43:37</td>\n",
              "      <td>2019-06-26 13:25:00</td>\n",
              "      <td>2019-06-26 16:24:00</td>\n",
              "      <td>MADRID</td>\n",
              "      <td>BARCELONA</td>\n",
              "      <td>AVE-TGV</td>\n",
              "      <td>Promo</td>\n",
              "      <td>Turista</td>\n",
              "      <td>66.75</td>\n",
              "    </tr>\n",
              "    <tr>\n",
              "      <th>...</th>\n",
              "      <td>...</td>\n",
              "      <td>...</td>\n",
              "      <td>...</td>\n",
              "      <td>...</td>\n",
              "      <td>...</td>\n",
              "      <td>...</td>\n",
              "      <td>...</td>\n",
              "      <td>...</td>\n",
              "      <td>...</td>\n",
              "    </tr>\n",
              "    <tr>\n",
              "      <th>383563</th>\n",
              "      <td>2019-05-06 05:11:53</td>\n",
              "      <td>2019-05-10 19:40:00</td>\n",
              "      <td>2019-05-10 21:29:00</td>\n",
              "      <td>MADRID</td>\n",
              "      <td>VALENCIA</td>\n",
              "      <td>AVE</td>\n",
              "      <td>Flexible</td>\n",
              "      <td>NaN</td>\n",
              "      <td>73.10</td>\n",
              "    </tr>\n",
              "    <tr>\n",
              "      <th>383564</th>\n",
              "      <td>2019-06-19 21:48:56</td>\n",
              "      <td>2019-08-05 20:00:00</td>\n",
              "      <td>2019-08-05 23:10:00</td>\n",
              "      <td>BARCELONA</td>\n",
              "      <td>MADRID</td>\n",
              "      <td>AVE</td>\n",
              "      <td>Promo</td>\n",
              "      <td>Preferente</td>\n",
              "      <td>54.45</td>\n",
              "    </tr>\n",
              "    <tr>\n",
              "      <th>383565</th>\n",
              "      <td>2019-04-24 23:21:44</td>\n",
              "      <td>2019-04-29 16:15:00</td>\n",
              "      <td>2019-04-29 17:55:00</td>\n",
              "      <td>VALENCIA</td>\n",
              "      <td>MADRID</td>\n",
              "      <td>AVE</td>\n",
              "      <td>Promo</td>\n",
              "      <td>Turista</td>\n",
              "      <td>27.80</td>\n",
              "    </tr>\n",
              "    <tr>\n",
              "      <th>383566</th>\n",
              "      <td>2019-05-27 21:05:19</td>\n",
              "      <td>2019-07-07 15:00:00</td>\n",
              "      <td>2019-07-07 17:21:00</td>\n",
              "      <td>MADRID</td>\n",
              "      <td>SEVILLA</td>\n",
              "      <td>AVE</td>\n",
              "      <td>Promo</td>\n",
              "      <td>NaN</td>\n",
              "      <td>47.30</td>\n",
              "    </tr>\n",
              "    <tr>\n",
              "      <th>383567</th>\n",
              "      <td>2019-05-27 15:04:14</td>\n",
              "      <td>2019-06-16 18:35:00</td>\n",
              "      <td>2019-06-16 20:21:00</td>\n",
              "      <td>VALENCIA</td>\n",
              "      <td>MADRID</td>\n",
              "      <td>AVE</td>\n",
              "      <td>Flexible</td>\n",
              "      <td>Turista</td>\n",
              "      <td>73.10</td>\n",
              "    </tr>\n",
              "  </tbody>\n",
              "</table>\n",
              "<p>383568 rows × 9 columns</p>\n",
              "</div>\n",
              "    <div class=\"colab-df-buttons\">\n",
              "\n",
              "  <div class=\"colab-df-container\">\n",
              "    <button class=\"colab-df-convert\" onclick=\"convertToInteractive('df-799d3e9a-1792-40b2-9e6f-7965453c901d')\"\n",
              "            title=\"Convert this dataframe to an interactive table.\"\n",
              "            style=\"display:none;\">\n",
              "\n",
              "  <svg xmlns=\"http://www.w3.org/2000/svg\" height=\"24px\" viewBox=\"0 -960 960 960\">\n",
              "    <path d=\"M120-120v-720h720v720H120Zm60-500h600v-160H180v160Zm220 220h160v-160H400v160Zm0 220h160v-160H400v160ZM180-400h160v-160H180v160Zm440 0h160v-160H620v160ZM180-180h160v-160H180v160Zm440 0h160v-160H620v160Z\"/>\n",
              "  </svg>\n",
              "    </button>\n",
              "\n",
              "  <style>\n",
              "    .colab-df-container {\n",
              "      display:flex;\n",
              "      gap: 12px;\n",
              "    }\n",
              "\n",
              "    .colab-df-convert {\n",
              "      background-color: #E8F0FE;\n",
              "      border: none;\n",
              "      border-radius: 50%;\n",
              "      cursor: pointer;\n",
              "      display: none;\n",
              "      fill: #1967D2;\n",
              "      height: 32px;\n",
              "      padding: 0 0 0 0;\n",
              "      width: 32px;\n",
              "    }\n",
              "\n",
              "    .colab-df-convert:hover {\n",
              "      background-color: #E2EBFA;\n",
              "      box-shadow: 0px 1px 2px rgba(60, 64, 67, 0.3), 0px 1px 3px 1px rgba(60, 64, 67, 0.15);\n",
              "      fill: #174EA6;\n",
              "    }\n",
              "\n",
              "    .colab-df-buttons div {\n",
              "      margin-bottom: 4px;\n",
              "    }\n",
              "\n",
              "    [theme=dark] .colab-df-convert {\n",
              "      background-color: #3B4455;\n",
              "      fill: #D2E3FC;\n",
              "    }\n",
              "\n",
              "    [theme=dark] .colab-df-convert:hover {\n",
              "      background-color: #434B5C;\n",
              "      box-shadow: 0px 1px 3px 1px rgba(0, 0, 0, 0.15);\n",
              "      filter: drop-shadow(0px 1px 2px rgba(0, 0, 0, 0.3));\n",
              "      fill: #FFFFFF;\n",
              "    }\n",
              "  </style>\n",
              "\n",
              "    <script>\n",
              "      const buttonEl =\n",
              "        document.querySelector('#df-799d3e9a-1792-40b2-9e6f-7965453c901d button.colab-df-convert');\n",
              "      buttonEl.style.display =\n",
              "        google.colab.kernel.accessAllowed ? 'block' : 'none';\n",
              "\n",
              "      async function convertToInteractive(key) {\n",
              "        const element = document.querySelector('#df-799d3e9a-1792-40b2-9e6f-7965453c901d');\n",
              "        const dataTable =\n",
              "          await google.colab.kernel.invokeFunction('convertToInteractive',\n",
              "                                                    [key], {});\n",
              "        if (!dataTable) return;\n",
              "\n",
              "        const docLinkHtml = 'Like what you see? Visit the ' +\n",
              "          '<a target=\"_blank\" href=https://colab.research.google.com/notebooks/data_table.ipynb>data table notebook</a>'\n",
              "          + ' to learn more about interactive tables.';\n",
              "        element.innerHTML = '';\n",
              "        dataTable['output_type'] = 'display_data';\n",
              "        await google.colab.output.renderOutput(dataTable, element);\n",
              "        const docLink = document.createElement('div');\n",
              "        docLink.innerHTML = docLinkHtml;\n",
              "        element.appendChild(docLink);\n",
              "      }\n",
              "    </script>\n",
              "  </div>\n",
              "\n",
              "\n",
              "<div id=\"df-eaf892aa-33e2-4263-ac00-790cc02e8a37\">\n",
              "  <button class=\"colab-df-quickchart\" onclick=\"quickchart('df-eaf892aa-33e2-4263-ac00-790cc02e8a37')\"\n",
              "            title=\"Suggest charts.\"\n",
              "            style=\"display:none;\">\n",
              "\n",
              "<svg xmlns=\"http://www.w3.org/2000/svg\" height=\"24px\"viewBox=\"0 0 24 24\"\n",
              "     width=\"24px\">\n",
              "    <g>\n",
              "        <path d=\"M19 3H5c-1.1 0-2 .9-2 2v14c0 1.1.9 2 2 2h14c1.1 0 2-.9 2-2V5c0-1.1-.9-2-2-2zM9 17H7v-7h2v7zm4 0h-2V7h2v10zm4 0h-2v-4h2v4z\"/>\n",
              "    </g>\n",
              "</svg>\n",
              "  </button>\n",
              "\n",
              "<style>\n",
              "  .colab-df-quickchart {\n",
              "      --bg-color: #E8F0FE;\n",
              "      --fill-color: #1967D2;\n",
              "      --hover-bg-color: #E2EBFA;\n",
              "      --hover-fill-color: #174EA6;\n",
              "      --disabled-fill-color: #AAA;\n",
              "      --disabled-bg-color: #DDD;\n",
              "  }\n",
              "\n",
              "  [theme=dark] .colab-df-quickchart {\n",
              "      --bg-color: #3B4455;\n",
              "      --fill-color: #D2E3FC;\n",
              "      --hover-bg-color: #434B5C;\n",
              "      --hover-fill-color: #FFFFFF;\n",
              "      --disabled-bg-color: #3B4455;\n",
              "      --disabled-fill-color: #666;\n",
              "  }\n",
              "\n",
              "  .colab-df-quickchart {\n",
              "    background-color: var(--bg-color);\n",
              "    border: none;\n",
              "    border-radius: 50%;\n",
              "    cursor: pointer;\n",
              "    display: none;\n",
              "    fill: var(--fill-color);\n",
              "    height: 32px;\n",
              "    padding: 0;\n",
              "    width: 32px;\n",
              "  }\n",
              "\n",
              "  .colab-df-quickchart:hover {\n",
              "    background-color: var(--hover-bg-color);\n",
              "    box-shadow: 0 1px 2px rgba(60, 64, 67, 0.3), 0 1px 3px 1px rgba(60, 64, 67, 0.15);\n",
              "    fill: var(--button-hover-fill-color);\n",
              "  }\n",
              "\n",
              "  .colab-df-quickchart-complete:disabled,\n",
              "  .colab-df-quickchart-complete:disabled:hover {\n",
              "    background-color: var(--disabled-bg-color);\n",
              "    fill: var(--disabled-fill-color);\n",
              "    box-shadow: none;\n",
              "  }\n",
              "\n",
              "  .colab-df-spinner {\n",
              "    border: 2px solid var(--fill-color);\n",
              "    border-color: transparent;\n",
              "    border-bottom-color: var(--fill-color);\n",
              "    animation:\n",
              "      spin 1s steps(1) infinite;\n",
              "  }\n",
              "\n",
              "  @keyframes spin {\n",
              "    0% {\n",
              "      border-color: transparent;\n",
              "      border-bottom-color: var(--fill-color);\n",
              "      border-left-color: var(--fill-color);\n",
              "    }\n",
              "    20% {\n",
              "      border-color: transparent;\n",
              "      border-left-color: var(--fill-color);\n",
              "      border-top-color: var(--fill-color);\n",
              "    }\n",
              "    30% {\n",
              "      border-color: transparent;\n",
              "      border-left-color: var(--fill-color);\n",
              "      border-top-color: var(--fill-color);\n",
              "      border-right-color: var(--fill-color);\n",
              "    }\n",
              "    40% {\n",
              "      border-color: transparent;\n",
              "      border-right-color: var(--fill-color);\n",
              "      border-top-color: var(--fill-color);\n",
              "    }\n",
              "    60% {\n",
              "      border-color: transparent;\n",
              "      border-right-color: var(--fill-color);\n",
              "    }\n",
              "    80% {\n",
              "      border-color: transparent;\n",
              "      border-right-color: var(--fill-color);\n",
              "      border-bottom-color: var(--fill-color);\n",
              "    }\n",
              "    90% {\n",
              "      border-color: transparent;\n",
              "      border-bottom-color: var(--fill-color);\n",
              "    }\n",
              "  }\n",
              "</style>\n",
              "\n",
              "  <script>\n",
              "    async function quickchart(key) {\n",
              "      const quickchartButtonEl =\n",
              "        document.querySelector('#' + key + ' button');\n",
              "      quickchartButtonEl.disabled = true;  // To prevent multiple clicks.\n",
              "      quickchartButtonEl.classList.add('colab-df-spinner');\n",
              "      try {\n",
              "        const charts = await google.colab.kernel.invokeFunction(\n",
              "            'suggestCharts', [key], {});\n",
              "      } catch (error) {\n",
              "        console.error('Error during call to suggestCharts:', error);\n",
              "      }\n",
              "      quickchartButtonEl.classList.remove('colab-df-spinner');\n",
              "      quickchartButtonEl.classList.add('colab-df-quickchart-complete');\n",
              "    }\n",
              "    (() => {\n",
              "      let quickchartButtonEl =\n",
              "        document.querySelector('#df-eaf892aa-33e2-4263-ac00-790cc02e8a37 button');\n",
              "      quickchartButtonEl.style.display =\n",
              "        google.colab.kernel.accessAllowed ? 'block' : 'none';\n",
              "    })();\n",
              "  </script>\n",
              "</div>\n",
              "    </div>\n",
              "  </div>\n"
            ]
          },
          "metadata": {},
          "execution_count": 119
        }
      ]
    },
    {
      "cell_type": "code",
      "source": [],
      "metadata": {
        "id": "xEHF2vxynGF0"
      },
      "execution_count": null,
      "outputs": []
    },
    {
      "cell_type": "code",
      "metadata": {
        "id": "XybcKFzlndy0"
      },
      "source": [
        "#PREGUNTA 1"
      ],
      "execution_count": null,
      "outputs": []
    },
    {
      "cell_type": "code",
      "metadata": {
        "id": "puy0XDZCndy1",
        "colab": {
          "base_uri": "https://localhost:8080/"
        },
        "outputId": "fd4710cd-0d22-497e-baae-6982bdf2f2a4"
      },
      "source": [
        "df_renfe.info()"
      ],
      "execution_count": 74,
      "outputs": [
        {
          "output_type": "stream",
          "name": "stdout",
          "text": [
            "<class 'pandas.core.frame.DataFrame'>\n",
            "RangeIndex: 383568 entries, 0 to 383567\n",
            "Data columns (total 9 columns):\n",
            " #   Column          Non-Null Count   Dtype  \n",
            "---  ------          --------------   -----  \n",
            " 0   FECHA_CONSULTA  383568 non-null  object \n",
            " 1   FECHA_INICIO    383568 non-null  object \n",
            " 2   FECHA_FIN       383568 non-null  object \n",
            " 3   CIUDAD_ORIGEN   383568 non-null  object \n",
            " 4   CIUDAD_DESTINO  383568 non-null  object \n",
            " 5   TIPO_TREN       345211 non-null  object \n",
            " 6   TIPO_TARIFA     344009 non-null  object \n",
            " 7   CLASE           344000 non-null  object \n",
            " 8   PRECIO          355038 non-null  float64\n",
            "dtypes: float64(1), object(8)\n",
            "memory usage: 26.3+ MB\n"
          ]
        }
      ]
    },
    {
      "cell_type": "code",
      "source": [
        "df_renfe.head()"
      ],
      "metadata": {
        "colab": {
          "base_uri": "https://localhost:8080/",
          "height": 292
        },
        "id": "Y7lb_aIRmwTo",
        "outputId": "187e39af-1892-4307-f7b1-ca84a7d7bf89"
      },
      "execution_count": 110,
      "outputs": [
        {
          "output_type": "execute_result",
          "data": {
            "text/plain": [
              "        FECHA_CONSULTA         FECHA_INICIO            FECHA_FIN  \\\n",
              "0  2019-05-25 01:43:03  2019-06-28 20:36:00  2019-06-28 23:14:00   \n",
              "1  2019-06-22 13:05:11  2019-07-14 10:00:00  2019-07-14 13:10:00   \n",
              "2  2019-04-17 06:24:03  2019-05-23 13:40:00  2019-05-23 16:10:00   \n",
              "3  2019-05-10 21:21:59  2019-05-29 14:50:00  2019-05-29 22:30:00   \n",
              "4  2019-05-09 19:43:37  2019-06-26 13:25:00  2019-06-26 16:24:00   \n",
              "\n",
              "  CIUDAD_ORIGEN CIUDAD_DESTINO TIPO_TREN TIPO_TARIFA    CLASE  PRECIO  \n",
              "0       SEVILLA         MADRID     ALVIA    Flexible  Turista   67.20  \n",
              "1     BARCELONA         MADRID       AVE    Flexible  Turista  107.70  \n",
              "2       SEVILLA         MADRID       AVE       Promo  Turista   47.30  \n",
              "3      VALENCIA         MADRID  REGIONAL  Adulto ida  Turista   28.35  \n",
              "4        MADRID      BARCELONA   AVE-TGV       Promo  Turista   66.75  "
            ],
            "text/html": [
              "\n",
              "  <div id=\"df-813b8000-3a52-42fb-8905-d0bd1344308a\" class=\"colab-df-container\">\n",
              "    <div>\n",
              "<style scoped>\n",
              "    .dataframe tbody tr th:only-of-type {\n",
              "        vertical-align: middle;\n",
              "    }\n",
              "\n",
              "    .dataframe tbody tr th {\n",
              "        vertical-align: top;\n",
              "    }\n",
              "\n",
              "    .dataframe thead th {\n",
              "        text-align: right;\n",
              "    }\n",
              "</style>\n",
              "<table border=\"1\" class=\"dataframe\">\n",
              "  <thead>\n",
              "    <tr style=\"text-align: right;\">\n",
              "      <th></th>\n",
              "      <th>FECHA_CONSULTA</th>\n",
              "      <th>FECHA_INICIO</th>\n",
              "      <th>FECHA_FIN</th>\n",
              "      <th>CIUDAD_ORIGEN</th>\n",
              "      <th>CIUDAD_DESTINO</th>\n",
              "      <th>TIPO_TREN</th>\n",
              "      <th>TIPO_TARIFA</th>\n",
              "      <th>CLASE</th>\n",
              "      <th>PRECIO</th>\n",
              "    </tr>\n",
              "  </thead>\n",
              "  <tbody>\n",
              "    <tr>\n",
              "      <th>0</th>\n",
              "      <td>2019-05-25 01:43:03</td>\n",
              "      <td>2019-06-28 20:36:00</td>\n",
              "      <td>2019-06-28 23:14:00</td>\n",
              "      <td>SEVILLA</td>\n",
              "      <td>MADRID</td>\n",
              "      <td>ALVIA</td>\n",
              "      <td>Flexible</td>\n",
              "      <td>Turista</td>\n",
              "      <td>67.20</td>\n",
              "    </tr>\n",
              "    <tr>\n",
              "      <th>1</th>\n",
              "      <td>2019-06-22 13:05:11</td>\n",
              "      <td>2019-07-14 10:00:00</td>\n",
              "      <td>2019-07-14 13:10:00</td>\n",
              "      <td>BARCELONA</td>\n",
              "      <td>MADRID</td>\n",
              "      <td>AVE</td>\n",
              "      <td>Flexible</td>\n",
              "      <td>Turista</td>\n",
              "      <td>107.70</td>\n",
              "    </tr>\n",
              "    <tr>\n",
              "      <th>2</th>\n",
              "      <td>2019-04-17 06:24:03</td>\n",
              "      <td>2019-05-23 13:40:00</td>\n",
              "      <td>2019-05-23 16:10:00</td>\n",
              "      <td>SEVILLA</td>\n",
              "      <td>MADRID</td>\n",
              "      <td>AVE</td>\n",
              "      <td>Promo</td>\n",
              "      <td>Turista</td>\n",
              "      <td>47.30</td>\n",
              "    </tr>\n",
              "    <tr>\n",
              "      <th>3</th>\n",
              "      <td>2019-05-10 21:21:59</td>\n",
              "      <td>2019-05-29 14:50:00</td>\n",
              "      <td>2019-05-29 22:30:00</td>\n",
              "      <td>VALENCIA</td>\n",
              "      <td>MADRID</td>\n",
              "      <td>REGIONAL</td>\n",
              "      <td>Adulto ida</td>\n",
              "      <td>Turista</td>\n",
              "      <td>28.35</td>\n",
              "    </tr>\n",
              "    <tr>\n",
              "      <th>4</th>\n",
              "      <td>2019-05-09 19:43:37</td>\n",
              "      <td>2019-06-26 13:25:00</td>\n",
              "      <td>2019-06-26 16:24:00</td>\n",
              "      <td>MADRID</td>\n",
              "      <td>BARCELONA</td>\n",
              "      <td>AVE-TGV</td>\n",
              "      <td>Promo</td>\n",
              "      <td>Turista</td>\n",
              "      <td>66.75</td>\n",
              "    </tr>\n",
              "  </tbody>\n",
              "</table>\n",
              "</div>\n",
              "    <div class=\"colab-df-buttons\">\n",
              "\n",
              "  <div class=\"colab-df-container\">\n",
              "    <button class=\"colab-df-convert\" onclick=\"convertToInteractive('df-813b8000-3a52-42fb-8905-d0bd1344308a')\"\n",
              "            title=\"Convert this dataframe to an interactive table.\"\n",
              "            style=\"display:none;\">\n",
              "\n",
              "  <svg xmlns=\"http://www.w3.org/2000/svg\" height=\"24px\" viewBox=\"0 -960 960 960\">\n",
              "    <path d=\"M120-120v-720h720v720H120Zm60-500h600v-160H180v160Zm220 220h160v-160H400v160Zm0 220h160v-160H400v160ZM180-400h160v-160H180v160Zm440 0h160v-160H620v160ZM180-180h160v-160H180v160Zm440 0h160v-160H620v160Z\"/>\n",
              "  </svg>\n",
              "    </button>\n",
              "\n",
              "  <style>\n",
              "    .colab-df-container {\n",
              "      display:flex;\n",
              "      gap: 12px;\n",
              "    }\n",
              "\n",
              "    .colab-df-convert {\n",
              "      background-color: #E8F0FE;\n",
              "      border: none;\n",
              "      border-radius: 50%;\n",
              "      cursor: pointer;\n",
              "      display: none;\n",
              "      fill: #1967D2;\n",
              "      height: 32px;\n",
              "      padding: 0 0 0 0;\n",
              "      width: 32px;\n",
              "    }\n",
              "\n",
              "    .colab-df-convert:hover {\n",
              "      background-color: #E2EBFA;\n",
              "      box-shadow: 0px 1px 2px rgba(60, 64, 67, 0.3), 0px 1px 3px 1px rgba(60, 64, 67, 0.15);\n",
              "      fill: #174EA6;\n",
              "    }\n",
              "\n",
              "    .colab-df-buttons div {\n",
              "      margin-bottom: 4px;\n",
              "    }\n",
              "\n",
              "    [theme=dark] .colab-df-convert {\n",
              "      background-color: #3B4455;\n",
              "      fill: #D2E3FC;\n",
              "    }\n",
              "\n",
              "    [theme=dark] .colab-df-convert:hover {\n",
              "      background-color: #434B5C;\n",
              "      box-shadow: 0px 1px 3px 1px rgba(0, 0, 0, 0.15);\n",
              "      filter: drop-shadow(0px 1px 2px rgba(0, 0, 0, 0.3));\n",
              "      fill: #FFFFFF;\n",
              "    }\n",
              "  </style>\n",
              "\n",
              "    <script>\n",
              "      const buttonEl =\n",
              "        document.querySelector('#df-813b8000-3a52-42fb-8905-d0bd1344308a button.colab-df-convert');\n",
              "      buttonEl.style.display =\n",
              "        google.colab.kernel.accessAllowed ? 'block' : 'none';\n",
              "\n",
              "      async function convertToInteractive(key) {\n",
              "        const element = document.querySelector('#df-813b8000-3a52-42fb-8905-d0bd1344308a');\n",
              "        const dataTable =\n",
              "          await google.colab.kernel.invokeFunction('convertToInteractive',\n",
              "                                                    [key], {});\n",
              "        if (!dataTable) return;\n",
              "\n",
              "        const docLinkHtml = 'Like what you see? Visit the ' +\n",
              "          '<a target=\"_blank\" href=https://colab.research.google.com/notebooks/data_table.ipynb>data table notebook</a>'\n",
              "          + ' to learn more about interactive tables.';\n",
              "        element.innerHTML = '';\n",
              "        dataTable['output_type'] = 'display_data';\n",
              "        await google.colab.output.renderOutput(dataTable, element);\n",
              "        const docLink = document.createElement('div');\n",
              "        docLink.innerHTML = docLinkHtml;\n",
              "        element.appendChild(docLink);\n",
              "      }\n",
              "    </script>\n",
              "  </div>\n",
              "\n",
              "\n",
              "<div id=\"df-6d80f9ed-db77-490b-b277-09e563037305\">\n",
              "  <button class=\"colab-df-quickchart\" onclick=\"quickchart('df-6d80f9ed-db77-490b-b277-09e563037305')\"\n",
              "            title=\"Suggest charts.\"\n",
              "            style=\"display:none;\">\n",
              "\n",
              "<svg xmlns=\"http://www.w3.org/2000/svg\" height=\"24px\"viewBox=\"0 0 24 24\"\n",
              "     width=\"24px\">\n",
              "    <g>\n",
              "        <path d=\"M19 3H5c-1.1 0-2 .9-2 2v14c0 1.1.9 2 2 2h14c1.1 0 2-.9 2-2V5c0-1.1-.9-2-2-2zM9 17H7v-7h2v7zm4 0h-2V7h2v10zm4 0h-2v-4h2v4z\"/>\n",
              "    </g>\n",
              "</svg>\n",
              "  </button>\n",
              "\n",
              "<style>\n",
              "  .colab-df-quickchart {\n",
              "      --bg-color: #E8F0FE;\n",
              "      --fill-color: #1967D2;\n",
              "      --hover-bg-color: #E2EBFA;\n",
              "      --hover-fill-color: #174EA6;\n",
              "      --disabled-fill-color: #AAA;\n",
              "      --disabled-bg-color: #DDD;\n",
              "  }\n",
              "\n",
              "  [theme=dark] .colab-df-quickchart {\n",
              "      --bg-color: #3B4455;\n",
              "      --fill-color: #D2E3FC;\n",
              "      --hover-bg-color: #434B5C;\n",
              "      --hover-fill-color: #FFFFFF;\n",
              "      --disabled-bg-color: #3B4455;\n",
              "      --disabled-fill-color: #666;\n",
              "  }\n",
              "\n",
              "  .colab-df-quickchart {\n",
              "    background-color: var(--bg-color);\n",
              "    border: none;\n",
              "    border-radius: 50%;\n",
              "    cursor: pointer;\n",
              "    display: none;\n",
              "    fill: var(--fill-color);\n",
              "    height: 32px;\n",
              "    padding: 0;\n",
              "    width: 32px;\n",
              "  }\n",
              "\n",
              "  .colab-df-quickchart:hover {\n",
              "    background-color: var(--hover-bg-color);\n",
              "    box-shadow: 0 1px 2px rgba(60, 64, 67, 0.3), 0 1px 3px 1px rgba(60, 64, 67, 0.15);\n",
              "    fill: var(--button-hover-fill-color);\n",
              "  }\n",
              "\n",
              "  .colab-df-quickchart-complete:disabled,\n",
              "  .colab-df-quickchart-complete:disabled:hover {\n",
              "    background-color: var(--disabled-bg-color);\n",
              "    fill: var(--disabled-fill-color);\n",
              "    box-shadow: none;\n",
              "  }\n",
              "\n",
              "  .colab-df-spinner {\n",
              "    border: 2px solid var(--fill-color);\n",
              "    border-color: transparent;\n",
              "    border-bottom-color: var(--fill-color);\n",
              "    animation:\n",
              "      spin 1s steps(1) infinite;\n",
              "  }\n",
              "\n",
              "  @keyframes spin {\n",
              "    0% {\n",
              "      border-color: transparent;\n",
              "      border-bottom-color: var(--fill-color);\n",
              "      border-left-color: var(--fill-color);\n",
              "    }\n",
              "    20% {\n",
              "      border-color: transparent;\n",
              "      border-left-color: var(--fill-color);\n",
              "      border-top-color: var(--fill-color);\n",
              "    }\n",
              "    30% {\n",
              "      border-color: transparent;\n",
              "      border-left-color: var(--fill-color);\n",
              "      border-top-color: var(--fill-color);\n",
              "      border-right-color: var(--fill-color);\n",
              "    }\n",
              "    40% {\n",
              "      border-color: transparent;\n",
              "      border-right-color: var(--fill-color);\n",
              "      border-top-color: var(--fill-color);\n",
              "    }\n",
              "    60% {\n",
              "      border-color: transparent;\n",
              "      border-right-color: var(--fill-color);\n",
              "    }\n",
              "    80% {\n",
              "      border-color: transparent;\n",
              "      border-right-color: var(--fill-color);\n",
              "      border-bottom-color: var(--fill-color);\n",
              "    }\n",
              "    90% {\n",
              "      border-color: transparent;\n",
              "      border-bottom-color: var(--fill-color);\n",
              "    }\n",
              "  }\n",
              "</style>\n",
              "\n",
              "  <script>\n",
              "    async function quickchart(key) {\n",
              "      const quickchartButtonEl =\n",
              "        document.querySelector('#' + key + ' button');\n",
              "      quickchartButtonEl.disabled = true;  // To prevent multiple clicks.\n",
              "      quickchartButtonEl.classList.add('colab-df-spinner');\n",
              "      try {\n",
              "        const charts = await google.colab.kernel.invokeFunction(\n",
              "            'suggestCharts', [key], {});\n",
              "      } catch (error) {\n",
              "        console.error('Error during call to suggestCharts:', error);\n",
              "      }\n",
              "      quickchartButtonEl.classList.remove('colab-df-spinner');\n",
              "      quickchartButtonEl.classList.add('colab-df-quickchart-complete');\n",
              "    }\n",
              "    (() => {\n",
              "      let quickchartButtonEl =\n",
              "        document.querySelector('#df-6d80f9ed-db77-490b-b277-09e563037305 button');\n",
              "      quickchartButtonEl.style.display =\n",
              "        google.colab.kernel.accessAllowed ? 'block' : 'none';\n",
              "    })();\n",
              "  </script>\n",
              "</div>\n",
              "    </div>\n",
              "  </div>\n"
            ]
          },
          "metadata": {},
          "execution_count": 110
        }
      ]
    },
    {
      "cell_type": "code",
      "source": [
        "df_renfe.isnull().sum()"
      ],
      "metadata": {
        "colab": {
          "base_uri": "https://localhost:8080/"
        },
        "id": "GTTKVgT6my0G",
        "outputId": "50520d5d-7604-46ae-986c-ad04f49ec2c6"
      },
      "execution_count": null,
      "outputs": [
        {
          "output_type": "execute_result",
          "data": {
            "text/plain": [
              "FECHA_CONSULTA        0\n",
              "FECHA_INICIO          0\n",
              "FECHA_FIN             0\n",
              "CIUDAD_ORIGEN         0\n",
              "CIUDAD_DESTINO        0\n",
              "TIPO_TREN         38357\n",
              "TIPO_TARIFA       39559\n",
              "CLASE             39568\n",
              "PRECIO            28530\n",
              "dtype: int64"
            ]
          },
          "metadata": {},
          "execution_count": 14
        }
      ]
    },
    {
      "cell_type": "code",
      "source": [
        "df_renfe2=df_renfe.copy()"
      ],
      "metadata": {
        "id": "oMfMi7WanHtT"
      },
      "execution_count": 77,
      "outputs": []
    },
    {
      "cell_type": "code",
      "metadata": {
        "id": "DuoZsHqKndy1"
      },
      "source": [
        "#PREGUNTA 2"
      ],
      "execution_count": null,
      "outputs": []
    },
    {
      "cell_type": "code",
      "source": [],
      "metadata": {
        "id": "bH3Re2cDX2Im"
      },
      "execution_count": null,
      "outputs": []
    },
    {
      "cell_type": "code",
      "metadata": {
        "id": "2wzpRzTxndy2"
      },
      "source": [
        "lista_fecha = [\"FECHA_CONSULTA\", \"FECHA_INICIO\", \"FECHA_FIN\"]"
      ],
      "execution_count": 78,
      "outputs": []
    },
    {
      "cell_type": "code",
      "source": [
        "for i in lista_fecha:\n",
        "  df_renfe2[i]= pd.to_datetime(df_renfe2[i])"
      ],
      "metadata": {
        "id": "eyb_1_0Wn0yC"
      },
      "execution_count": 79,
      "outputs": []
    },
    {
      "cell_type": "code",
      "metadata": {
        "id": "FpyoQJpdndy2"
      },
      "source": [
        "#PREGUNTA 3"
      ],
      "execution_count": null,
      "outputs": []
    },
    {
      "cell_type": "code",
      "source": [
        "df_renfe2.duplicated()"
      ],
      "metadata": {
        "id": "SbniXQDhrckn",
        "colab": {
          "base_uri": "https://localhost:8080/"
        },
        "outputId": "b9372ecb-186f-4582-e6f1-10e76310de2d"
      },
      "execution_count": 80,
      "outputs": [
        {
          "output_type": "execute_result",
          "data": {
            "text/plain": [
              "0         False\n",
              "1         False\n",
              "2         False\n",
              "3         False\n",
              "4         False\n",
              "          ...  \n",
              "383563    False\n",
              "383564    False\n",
              "383565    False\n",
              "383566    False\n",
              "383567    False\n",
              "Length: 383568, dtype: bool"
            ]
          },
          "metadata": {},
          "execution_count": 80
        }
      ]
    },
    {
      "cell_type": "code",
      "source": [
        "len (df_renfe2[df_renfe2.duplicated()])"
      ],
      "metadata": {
        "colab": {
          "base_uri": "https://localhost:8080/"
        },
        "id": "BA_iKlofobjg",
        "outputId": "a16424f5-962a-4bd9-d4ea-3607efc7bb5f"
      },
      "execution_count": 81,
      "outputs": [
        {
          "output_type": "execute_result",
          "data": {
            "text/plain": [
              "24"
            ]
          },
          "metadata": {},
          "execution_count": 81
        }
      ]
    },
    {
      "cell_type": "code",
      "source": [
        "#PREGUNTA 4"
      ],
      "metadata": {
        "id": "ogfc6X1pkIBV"
      },
      "execution_count": null,
      "outputs": []
    },
    {
      "cell_type": "code",
      "source": [
        "df_renfe2.drop_duplicates(inplace=True)"
      ],
      "metadata": {
        "id": "Wl8z1RR-kH0K"
      },
      "execution_count": 82,
      "outputs": []
    },
    {
      "cell_type": "code",
      "source": [
        "df_renfe2.info()"
      ],
      "metadata": {
        "id": "YOsJXQjCkHUB",
        "colab": {
          "base_uri": "https://localhost:8080/"
        },
        "outputId": "51610559-750f-4956-b717-e7c7296a915e"
      },
      "execution_count": 83,
      "outputs": [
        {
          "output_type": "stream",
          "name": "stdout",
          "text": [
            "<class 'pandas.core.frame.DataFrame'>\n",
            "Int64Index: 383544 entries, 0 to 383567\n",
            "Data columns (total 9 columns):\n",
            " #   Column          Non-Null Count   Dtype         \n",
            "---  ------          --------------   -----         \n",
            " 0   FECHA_CONSULTA  383544 non-null  datetime64[ns]\n",
            " 1   FECHA_INICIO    383544 non-null  datetime64[ns]\n",
            " 2   FECHA_FIN       383544 non-null  datetime64[ns]\n",
            " 3   CIUDAD_ORIGEN   383544 non-null  object        \n",
            " 4   CIUDAD_DESTINO  383544 non-null  object        \n",
            " 5   TIPO_TREN       345187 non-null  object        \n",
            " 6   TIPO_TARIFA     343990 non-null  object        \n",
            " 7   CLASE           343981 non-null  object        \n",
            " 8   PRECIO          355028 non-null  float64       \n",
            "dtypes: datetime64[ns](3), float64(1), object(5)\n",
            "memory usage: 29.3+ MB\n"
          ]
        }
      ]
    },
    {
      "cell_type": "code",
      "source": [
        "df_renfe2[\"tiempo_viaje\"] = (df_renfe2[\"FECHA_FIN\"] - df_renfe2[\"FECHA_INICIO\"])/np.timedelta64(1,'m')"
      ],
      "metadata": {
        "id": "AMb3ai3uqWcs"
      },
      "execution_count": 84,
      "outputs": []
    },
    {
      "cell_type": "code",
      "source": [
        "df_renfe2[\"Dif_Ini_Bus\"] = (df_renfe2[\"FECHA_INICIO\"] - df_renfe2[\"FECHA_CONSULTA\"])/np.timedelta64(1,'m')"
      ],
      "metadata": {
        "id": "K98823lrsf3U"
      },
      "execution_count": 85,
      "outputs": []
    },
    {
      "cell_type": "code",
      "source": [
        "df_renfe2[\"Dif_Ini_Bus\"]"
      ],
      "metadata": {
        "colab": {
          "base_uri": "https://localhost:8080/"
        },
        "id": "D86I2zFis_JC",
        "outputId": "179c1d01-dfe3-4f77-95b7-756f5f975b19"
      },
      "execution_count": 86,
      "outputs": [
        {
          "output_type": "execute_result",
          "data": {
            "text/plain": [
              "0         50092.950000\n",
              "1         31494.816667\n",
              "2         52275.950000\n",
              "3         26968.016667\n",
              "4         68741.383333\n",
              "              ...     \n",
              "383563     6628.116667\n",
              "383564    67571.066667\n",
              "383565     6773.266667\n",
              "383566    58674.683333\n",
              "383567    29010.766667\n",
              "Name: Dif_Ini_Bus, Length: 383544, dtype: float64"
            ]
          },
          "metadata": {},
          "execution_count": 86
        }
      ]
    },
    {
      "cell_type": "code",
      "source": [
        "#PREGUNTA 5"
      ],
      "metadata": {
        "id": "6M7vRI_9kHoI"
      },
      "execution_count": null,
      "outputs": []
    },
    {
      "cell_type": "code",
      "source": [
        "for col in ['FECHA_CONSULTA', 'FECHA_INICIO', 'FECHA_FIN']:\n",
        "    df_renfe2[col + '_HORA'] = df_renfe2[col].dt.hour\n",
        "    df_renfe2[col + '_NOMBREDIA'] = df_renfe2[col].dt.day_name()\n",
        "    ##O .dt.weekday_name\n",
        "    df_renfe2[col + '_DIA'] = df_renfe2[col].dt.day\n",
        "    df_renfe2[col + '_MES'] = df_renfe2[col].dt.month\n",
        "\n",
        "    del df_renfe2[col]\n",
        "\n",
        "df_renfe2.head()"
      ],
      "metadata": {
        "colab": {
          "base_uri": "https://localhost:8080/",
          "height": 226
        },
        "id": "5SBys6i4xYs4",
        "outputId": "7981526d-8353-46dc-8467-9e7b67693fef"
      },
      "execution_count": 87,
      "outputs": [
        {
          "output_type": "execute_result",
          "data": {
            "text/plain": [
              "  CIUDAD_ORIGEN CIUDAD_DESTINO TIPO_TREN TIPO_TARIFA    CLASE  PRECIO  \\\n",
              "0       SEVILLA         MADRID     ALVIA    Flexible  Turista   67.20   \n",
              "1     BARCELONA         MADRID       AVE    Flexible  Turista  107.70   \n",
              "2       SEVILLA         MADRID       AVE       Promo  Turista   47.30   \n",
              "3      VALENCIA         MADRID  REGIONAL  Adulto ida  Turista   28.35   \n",
              "4        MADRID      BARCELONA   AVE-TGV       Promo  Turista   66.75   \n",
              "\n",
              "   tiempo_viaje   Dif_Ini_Bus  FECHA_CONSULTA_HORA FECHA_CONSULTA_NOMBREDIA  \\\n",
              "0         158.0  50092.950000                    1                 Saturday   \n",
              "1         190.0  31494.816667                   13                 Saturday   \n",
              "2         150.0  52275.950000                    6                Wednesday   \n",
              "3         460.0  26968.016667                   21                   Friday   \n",
              "4         179.0  68741.383333                   19                 Thursday   \n",
              "\n",
              "   FECHA_CONSULTA_DIA  FECHA_CONSULTA_MES  FECHA_INICIO_HORA  \\\n",
              "0                  25                   5                 20   \n",
              "1                  22                   6                 10   \n",
              "2                  17                   4                 13   \n",
              "3                  10                   5                 14   \n",
              "4                   9                   5                 13   \n",
              "\n",
              "  FECHA_INICIO_NOMBREDIA  FECHA_INICIO_DIA  FECHA_INICIO_MES  FECHA_FIN_HORA  \\\n",
              "0                 Friday                28                 6              23   \n",
              "1                 Sunday                14                 7              13   \n",
              "2               Thursday                23                 5              16   \n",
              "3              Wednesday                29                 5              22   \n",
              "4              Wednesday                26                 6              16   \n",
              "\n",
              "  FECHA_FIN_NOMBREDIA  FECHA_FIN_DIA  FECHA_FIN_MES  \n",
              "0              Friday             28              6  \n",
              "1              Sunday             14              7  \n",
              "2            Thursday             23              5  \n",
              "3           Wednesday             29              5  \n",
              "4           Wednesday             26              6  "
            ],
            "text/html": [
              "\n",
              "  <div id=\"df-41be3420-fea3-4e2d-a15b-ef57caf6d0d2\" class=\"colab-df-container\">\n",
              "    <div>\n",
              "<style scoped>\n",
              "    .dataframe tbody tr th:only-of-type {\n",
              "        vertical-align: middle;\n",
              "    }\n",
              "\n",
              "    .dataframe tbody tr th {\n",
              "        vertical-align: top;\n",
              "    }\n",
              "\n",
              "    .dataframe thead th {\n",
              "        text-align: right;\n",
              "    }\n",
              "</style>\n",
              "<table border=\"1\" class=\"dataframe\">\n",
              "  <thead>\n",
              "    <tr style=\"text-align: right;\">\n",
              "      <th></th>\n",
              "      <th>CIUDAD_ORIGEN</th>\n",
              "      <th>CIUDAD_DESTINO</th>\n",
              "      <th>TIPO_TREN</th>\n",
              "      <th>TIPO_TARIFA</th>\n",
              "      <th>CLASE</th>\n",
              "      <th>PRECIO</th>\n",
              "      <th>tiempo_viaje</th>\n",
              "      <th>Dif_Ini_Bus</th>\n",
              "      <th>FECHA_CONSULTA_HORA</th>\n",
              "      <th>FECHA_CONSULTA_NOMBREDIA</th>\n",
              "      <th>FECHA_CONSULTA_DIA</th>\n",
              "      <th>FECHA_CONSULTA_MES</th>\n",
              "      <th>FECHA_INICIO_HORA</th>\n",
              "      <th>FECHA_INICIO_NOMBREDIA</th>\n",
              "      <th>FECHA_INICIO_DIA</th>\n",
              "      <th>FECHA_INICIO_MES</th>\n",
              "      <th>FECHA_FIN_HORA</th>\n",
              "      <th>FECHA_FIN_NOMBREDIA</th>\n",
              "      <th>FECHA_FIN_DIA</th>\n",
              "      <th>FECHA_FIN_MES</th>\n",
              "    </tr>\n",
              "  </thead>\n",
              "  <tbody>\n",
              "    <tr>\n",
              "      <th>0</th>\n",
              "      <td>SEVILLA</td>\n",
              "      <td>MADRID</td>\n",
              "      <td>ALVIA</td>\n",
              "      <td>Flexible</td>\n",
              "      <td>Turista</td>\n",
              "      <td>67.20</td>\n",
              "      <td>158.0</td>\n",
              "      <td>50092.950000</td>\n",
              "      <td>1</td>\n",
              "      <td>Saturday</td>\n",
              "      <td>25</td>\n",
              "      <td>5</td>\n",
              "      <td>20</td>\n",
              "      <td>Friday</td>\n",
              "      <td>28</td>\n",
              "      <td>6</td>\n",
              "      <td>23</td>\n",
              "      <td>Friday</td>\n",
              "      <td>28</td>\n",
              "      <td>6</td>\n",
              "    </tr>\n",
              "    <tr>\n",
              "      <th>1</th>\n",
              "      <td>BARCELONA</td>\n",
              "      <td>MADRID</td>\n",
              "      <td>AVE</td>\n",
              "      <td>Flexible</td>\n",
              "      <td>Turista</td>\n",
              "      <td>107.70</td>\n",
              "      <td>190.0</td>\n",
              "      <td>31494.816667</td>\n",
              "      <td>13</td>\n",
              "      <td>Saturday</td>\n",
              "      <td>22</td>\n",
              "      <td>6</td>\n",
              "      <td>10</td>\n",
              "      <td>Sunday</td>\n",
              "      <td>14</td>\n",
              "      <td>7</td>\n",
              "      <td>13</td>\n",
              "      <td>Sunday</td>\n",
              "      <td>14</td>\n",
              "      <td>7</td>\n",
              "    </tr>\n",
              "    <tr>\n",
              "      <th>2</th>\n",
              "      <td>SEVILLA</td>\n",
              "      <td>MADRID</td>\n",
              "      <td>AVE</td>\n",
              "      <td>Promo</td>\n",
              "      <td>Turista</td>\n",
              "      <td>47.30</td>\n",
              "      <td>150.0</td>\n",
              "      <td>52275.950000</td>\n",
              "      <td>6</td>\n",
              "      <td>Wednesday</td>\n",
              "      <td>17</td>\n",
              "      <td>4</td>\n",
              "      <td>13</td>\n",
              "      <td>Thursday</td>\n",
              "      <td>23</td>\n",
              "      <td>5</td>\n",
              "      <td>16</td>\n",
              "      <td>Thursday</td>\n",
              "      <td>23</td>\n",
              "      <td>5</td>\n",
              "    </tr>\n",
              "    <tr>\n",
              "      <th>3</th>\n",
              "      <td>VALENCIA</td>\n",
              "      <td>MADRID</td>\n",
              "      <td>REGIONAL</td>\n",
              "      <td>Adulto ida</td>\n",
              "      <td>Turista</td>\n",
              "      <td>28.35</td>\n",
              "      <td>460.0</td>\n",
              "      <td>26968.016667</td>\n",
              "      <td>21</td>\n",
              "      <td>Friday</td>\n",
              "      <td>10</td>\n",
              "      <td>5</td>\n",
              "      <td>14</td>\n",
              "      <td>Wednesday</td>\n",
              "      <td>29</td>\n",
              "      <td>5</td>\n",
              "      <td>22</td>\n",
              "      <td>Wednesday</td>\n",
              "      <td>29</td>\n",
              "      <td>5</td>\n",
              "    </tr>\n",
              "    <tr>\n",
              "      <th>4</th>\n",
              "      <td>MADRID</td>\n",
              "      <td>BARCELONA</td>\n",
              "      <td>AVE-TGV</td>\n",
              "      <td>Promo</td>\n",
              "      <td>Turista</td>\n",
              "      <td>66.75</td>\n",
              "      <td>179.0</td>\n",
              "      <td>68741.383333</td>\n",
              "      <td>19</td>\n",
              "      <td>Thursday</td>\n",
              "      <td>9</td>\n",
              "      <td>5</td>\n",
              "      <td>13</td>\n",
              "      <td>Wednesday</td>\n",
              "      <td>26</td>\n",
              "      <td>6</td>\n",
              "      <td>16</td>\n",
              "      <td>Wednesday</td>\n",
              "      <td>26</td>\n",
              "      <td>6</td>\n",
              "    </tr>\n",
              "  </tbody>\n",
              "</table>\n",
              "</div>\n",
              "    <div class=\"colab-df-buttons\">\n",
              "\n",
              "  <div class=\"colab-df-container\">\n",
              "    <button class=\"colab-df-convert\" onclick=\"convertToInteractive('df-41be3420-fea3-4e2d-a15b-ef57caf6d0d2')\"\n",
              "            title=\"Convert this dataframe to an interactive table.\"\n",
              "            style=\"display:none;\">\n",
              "\n",
              "  <svg xmlns=\"http://www.w3.org/2000/svg\" height=\"24px\" viewBox=\"0 -960 960 960\">\n",
              "    <path d=\"M120-120v-720h720v720H120Zm60-500h600v-160H180v160Zm220 220h160v-160H400v160Zm0 220h160v-160H400v160ZM180-400h160v-160H180v160Zm440 0h160v-160H620v160ZM180-180h160v-160H180v160Zm440 0h160v-160H620v160Z\"/>\n",
              "  </svg>\n",
              "    </button>\n",
              "\n",
              "  <style>\n",
              "    .colab-df-container {\n",
              "      display:flex;\n",
              "      gap: 12px;\n",
              "    }\n",
              "\n",
              "    .colab-df-convert {\n",
              "      background-color: #E8F0FE;\n",
              "      border: none;\n",
              "      border-radius: 50%;\n",
              "      cursor: pointer;\n",
              "      display: none;\n",
              "      fill: #1967D2;\n",
              "      height: 32px;\n",
              "      padding: 0 0 0 0;\n",
              "      width: 32px;\n",
              "    }\n",
              "\n",
              "    .colab-df-convert:hover {\n",
              "      background-color: #E2EBFA;\n",
              "      box-shadow: 0px 1px 2px rgba(60, 64, 67, 0.3), 0px 1px 3px 1px rgba(60, 64, 67, 0.15);\n",
              "      fill: #174EA6;\n",
              "    }\n",
              "\n",
              "    .colab-df-buttons div {\n",
              "      margin-bottom: 4px;\n",
              "    }\n",
              "\n",
              "    [theme=dark] .colab-df-convert {\n",
              "      background-color: #3B4455;\n",
              "      fill: #D2E3FC;\n",
              "    }\n",
              "\n",
              "    [theme=dark] .colab-df-convert:hover {\n",
              "      background-color: #434B5C;\n",
              "      box-shadow: 0px 1px 3px 1px rgba(0, 0, 0, 0.15);\n",
              "      filter: drop-shadow(0px 1px 2px rgba(0, 0, 0, 0.3));\n",
              "      fill: #FFFFFF;\n",
              "    }\n",
              "  </style>\n",
              "\n",
              "    <script>\n",
              "      const buttonEl =\n",
              "        document.querySelector('#df-41be3420-fea3-4e2d-a15b-ef57caf6d0d2 button.colab-df-convert');\n",
              "      buttonEl.style.display =\n",
              "        google.colab.kernel.accessAllowed ? 'block' : 'none';\n",
              "\n",
              "      async function convertToInteractive(key) {\n",
              "        const element = document.querySelector('#df-41be3420-fea3-4e2d-a15b-ef57caf6d0d2');\n",
              "        const dataTable =\n",
              "          await google.colab.kernel.invokeFunction('convertToInteractive',\n",
              "                                                    [key], {});\n",
              "        if (!dataTable) return;\n",
              "\n",
              "        const docLinkHtml = 'Like what you see? Visit the ' +\n",
              "          '<a target=\"_blank\" href=https://colab.research.google.com/notebooks/data_table.ipynb>data table notebook</a>'\n",
              "          + ' to learn more about interactive tables.';\n",
              "        element.innerHTML = '';\n",
              "        dataTable['output_type'] = 'display_data';\n",
              "        await google.colab.output.renderOutput(dataTable, element);\n",
              "        const docLink = document.createElement('div');\n",
              "        docLink.innerHTML = docLinkHtml;\n",
              "        element.appendChild(docLink);\n",
              "      }\n",
              "    </script>\n",
              "  </div>\n",
              "\n",
              "\n",
              "<div id=\"df-416dc025-b8c2-4657-9134-98b5a1152b6e\">\n",
              "  <button class=\"colab-df-quickchart\" onclick=\"quickchart('df-416dc025-b8c2-4657-9134-98b5a1152b6e')\"\n",
              "            title=\"Suggest charts.\"\n",
              "            style=\"display:none;\">\n",
              "\n",
              "<svg xmlns=\"http://www.w3.org/2000/svg\" height=\"24px\"viewBox=\"0 0 24 24\"\n",
              "     width=\"24px\">\n",
              "    <g>\n",
              "        <path d=\"M19 3H5c-1.1 0-2 .9-2 2v14c0 1.1.9 2 2 2h14c1.1 0 2-.9 2-2V5c0-1.1-.9-2-2-2zM9 17H7v-7h2v7zm4 0h-2V7h2v10zm4 0h-2v-4h2v4z\"/>\n",
              "    </g>\n",
              "</svg>\n",
              "  </button>\n",
              "\n",
              "<style>\n",
              "  .colab-df-quickchart {\n",
              "      --bg-color: #E8F0FE;\n",
              "      --fill-color: #1967D2;\n",
              "      --hover-bg-color: #E2EBFA;\n",
              "      --hover-fill-color: #174EA6;\n",
              "      --disabled-fill-color: #AAA;\n",
              "      --disabled-bg-color: #DDD;\n",
              "  }\n",
              "\n",
              "  [theme=dark] .colab-df-quickchart {\n",
              "      --bg-color: #3B4455;\n",
              "      --fill-color: #D2E3FC;\n",
              "      --hover-bg-color: #434B5C;\n",
              "      --hover-fill-color: #FFFFFF;\n",
              "      --disabled-bg-color: #3B4455;\n",
              "      --disabled-fill-color: #666;\n",
              "  }\n",
              "\n",
              "  .colab-df-quickchart {\n",
              "    background-color: var(--bg-color);\n",
              "    border: none;\n",
              "    border-radius: 50%;\n",
              "    cursor: pointer;\n",
              "    display: none;\n",
              "    fill: var(--fill-color);\n",
              "    height: 32px;\n",
              "    padding: 0;\n",
              "    width: 32px;\n",
              "  }\n",
              "\n",
              "  .colab-df-quickchart:hover {\n",
              "    background-color: var(--hover-bg-color);\n",
              "    box-shadow: 0 1px 2px rgba(60, 64, 67, 0.3), 0 1px 3px 1px rgba(60, 64, 67, 0.15);\n",
              "    fill: var(--button-hover-fill-color);\n",
              "  }\n",
              "\n",
              "  .colab-df-quickchart-complete:disabled,\n",
              "  .colab-df-quickchart-complete:disabled:hover {\n",
              "    background-color: var(--disabled-bg-color);\n",
              "    fill: var(--disabled-fill-color);\n",
              "    box-shadow: none;\n",
              "  }\n",
              "\n",
              "  .colab-df-spinner {\n",
              "    border: 2px solid var(--fill-color);\n",
              "    border-color: transparent;\n",
              "    border-bottom-color: var(--fill-color);\n",
              "    animation:\n",
              "      spin 1s steps(1) infinite;\n",
              "  }\n",
              "\n",
              "  @keyframes spin {\n",
              "    0% {\n",
              "      border-color: transparent;\n",
              "      border-bottom-color: var(--fill-color);\n",
              "      border-left-color: var(--fill-color);\n",
              "    }\n",
              "    20% {\n",
              "      border-color: transparent;\n",
              "      border-left-color: var(--fill-color);\n",
              "      border-top-color: var(--fill-color);\n",
              "    }\n",
              "    30% {\n",
              "      border-color: transparent;\n",
              "      border-left-color: var(--fill-color);\n",
              "      border-top-color: var(--fill-color);\n",
              "      border-right-color: var(--fill-color);\n",
              "    }\n",
              "    40% {\n",
              "      border-color: transparent;\n",
              "      border-right-color: var(--fill-color);\n",
              "      border-top-color: var(--fill-color);\n",
              "    }\n",
              "    60% {\n",
              "      border-color: transparent;\n",
              "      border-right-color: var(--fill-color);\n",
              "    }\n",
              "    80% {\n",
              "      border-color: transparent;\n",
              "      border-right-color: var(--fill-color);\n",
              "      border-bottom-color: var(--fill-color);\n",
              "    }\n",
              "    90% {\n",
              "      border-color: transparent;\n",
              "      border-bottom-color: var(--fill-color);\n",
              "    }\n",
              "  }\n",
              "</style>\n",
              "\n",
              "  <script>\n",
              "    async function quickchart(key) {\n",
              "      const quickchartButtonEl =\n",
              "        document.querySelector('#' + key + ' button');\n",
              "      quickchartButtonEl.disabled = true;  // To prevent multiple clicks.\n",
              "      quickchartButtonEl.classList.add('colab-df-spinner');\n",
              "      try {\n",
              "        const charts = await google.colab.kernel.invokeFunction(\n",
              "            'suggestCharts', [key], {});\n",
              "      } catch (error) {\n",
              "        console.error('Error during call to suggestCharts:', error);\n",
              "      }\n",
              "      quickchartButtonEl.classList.remove('colab-df-spinner');\n",
              "      quickchartButtonEl.classList.add('colab-df-quickchart-complete');\n",
              "    }\n",
              "    (() => {\n",
              "      let quickchartButtonEl =\n",
              "        document.querySelector('#df-416dc025-b8c2-4657-9134-98b5a1152b6e button');\n",
              "      quickchartButtonEl.style.display =\n",
              "        google.colab.kernel.accessAllowed ? 'block' : 'none';\n",
              "    })();\n",
              "  </script>\n",
              "</div>\n",
              "    </div>\n",
              "  </div>\n"
            ]
          },
          "metadata": {},
          "execution_count": 87
        }
      ]
    },
    {
      "cell_type": "code",
      "metadata": {
        "id": "pnbQfMXNndy2"
      },
      "source": [
        "#PREGUNTA 6"
      ],
      "execution_count": null,
      "outputs": []
    },
    {
      "cell_type": "code",
      "metadata": {
        "id": "WeLxjP0Ondy3",
        "colab": {
          "base_uri": "https://localhost:8080/"
        },
        "outputId": "f0b4e62d-92b2-4369-e296-5431739fcae1"
      },
      "source": [
        "df_renfe2[\"PRECIO\"].isnull()"
      ],
      "execution_count": 88,
      "outputs": [
        {
          "output_type": "execute_result",
          "data": {
            "text/plain": [
              "0         False\n",
              "1         False\n",
              "2         False\n",
              "3         False\n",
              "4         False\n",
              "          ...  \n",
              "383563    False\n",
              "383564    False\n",
              "383565    False\n",
              "383566    False\n",
              "383567    False\n",
              "Name: PRECIO, Length: 383544, dtype: bool"
            ]
          },
          "metadata": {},
          "execution_count": 88
        }
      ]
    },
    {
      "cell_type": "code",
      "source": [
        "df_renfe2[\"PRECIO\"].isnull().sum()"
      ],
      "metadata": {
        "colab": {
          "base_uri": "https://localhost:8080/"
        },
        "id": "SJ3ifbXLzTQf",
        "outputId": "b481d971-59f7-47b8-eef5-0dc3adcfbff1"
      },
      "execution_count": 89,
      "outputs": [
        {
          "output_type": "execute_result",
          "data": {
            "text/plain": [
              "28516"
            ]
          },
          "metadata": {},
          "execution_count": 89
        }
      ]
    },
    {
      "cell_type": "code",
      "source": [
        "df_renfe.info()\n"
      ],
      "metadata": {
        "colab": {
          "base_uri": "https://localhost:8080/"
        },
        "id": "fGN-EAsV1FvV",
        "outputId": "c706b175-aa28-4bbb-b28d-37f868bdd2fc"
      },
      "execution_count": 90,
      "outputs": [
        {
          "output_type": "stream",
          "name": "stdout",
          "text": [
            "<class 'pandas.core.frame.DataFrame'>\n",
            "RangeIndex: 383568 entries, 0 to 383567\n",
            "Data columns (total 9 columns):\n",
            " #   Column          Non-Null Count   Dtype  \n",
            "---  ------          --------------   -----  \n",
            " 0   FECHA_CONSULTA  383568 non-null  object \n",
            " 1   FECHA_INICIO    383568 non-null  object \n",
            " 2   FECHA_FIN       383568 non-null  object \n",
            " 3   CIUDAD_ORIGEN   383568 non-null  object \n",
            " 4   CIUDAD_DESTINO  383568 non-null  object \n",
            " 5   TIPO_TREN       345211 non-null  object \n",
            " 6   TIPO_TARIFA     344009 non-null  object \n",
            " 7   CLASE           344000 non-null  object \n",
            " 8   PRECIO          355038 non-null  float64\n",
            "dtypes: float64(1), object(8)\n",
            "memory usage: 26.3+ MB\n"
          ]
        }
      ]
    },
    {
      "cell_type": "code",
      "metadata": {
        "id": "I0dMoZH9uY90"
      },
      "source": [
        "#PREGUNTA 7"
      ],
      "execution_count": null,
      "outputs": []
    },
    {
      "cell_type": "code",
      "metadata": {
        "id": "ZtFggwlZndy3"
      },
      "source": [
        "df_renfe3 = df_renfe2.copy()"
      ],
      "execution_count": 91,
      "outputs": []
    },
    {
      "cell_type": "code",
      "source": [
        "df_renfe3.info()"
      ],
      "metadata": {
        "colab": {
          "base_uri": "https://localhost:8080/"
        },
        "id": "b9EaNiFk1k2a",
        "outputId": "73485fb3-f832-49d8-d32a-947dd2933b43"
      },
      "execution_count": 92,
      "outputs": [
        {
          "output_type": "stream",
          "name": "stdout",
          "text": [
            "<class 'pandas.core.frame.DataFrame'>\n",
            "Int64Index: 383544 entries, 0 to 383567\n",
            "Data columns (total 20 columns):\n",
            " #   Column                    Non-Null Count   Dtype  \n",
            "---  ------                    --------------   -----  \n",
            " 0   CIUDAD_ORIGEN             383544 non-null  object \n",
            " 1   CIUDAD_DESTINO            383544 non-null  object \n",
            " 2   TIPO_TREN                 345187 non-null  object \n",
            " 3   TIPO_TARIFA               343990 non-null  object \n",
            " 4   CLASE                     343981 non-null  object \n",
            " 5   PRECIO                    355028 non-null  float64\n",
            " 6   tiempo_viaje              383544 non-null  float64\n",
            " 7   Dif_Ini_Bus               383544 non-null  float64\n",
            " 8   FECHA_CONSULTA_HORA       383544 non-null  int64  \n",
            " 9   FECHA_CONSULTA_NOMBREDIA  383544 non-null  object \n",
            " 10  FECHA_CONSULTA_DIA        383544 non-null  int64  \n",
            " 11  FECHA_CONSULTA_MES        383544 non-null  int64  \n",
            " 12  FECHA_INICIO_HORA         383544 non-null  int64  \n",
            " 13  FECHA_INICIO_NOMBREDIA    383544 non-null  object \n",
            " 14  FECHA_INICIO_DIA          383544 non-null  int64  \n",
            " 15  FECHA_INICIO_MES          383544 non-null  int64  \n",
            " 16  FECHA_FIN_HORA            383544 non-null  int64  \n",
            " 17  FECHA_FIN_NOMBREDIA       383544 non-null  object \n",
            " 18  FECHA_FIN_DIA             383544 non-null  int64  \n",
            " 19  FECHA_FIN_MES             383544 non-null  int64  \n",
            "dtypes: float64(3), int64(9), object(8)\n",
            "memory usage: 61.5+ MB\n"
          ]
        }
      ]
    },
    {
      "cell_type": "markdown",
      "source": [],
      "metadata": {
        "id": "rHBg4AIRv9i6"
      }
    },
    {
      "cell_type": "code",
      "source": [
        "df_renfe3[\"CLASE\"].isnull().sum()"
      ],
      "metadata": {
        "colab": {
          "base_uri": "https://localhost:8080/"
        },
        "id": "DkwdzbmU2cdC",
        "outputId": "11dd23eb-80cc-4cdf-cc41-63b04b593814"
      },
      "execution_count": 93,
      "outputs": [
        {
          "output_type": "execute_result",
          "data": {
            "text/plain": [
              "39563"
            ]
          },
          "metadata": {},
          "execution_count": 93
        }
      ]
    },
    {
      "cell_type": "code",
      "source": [
        "df_renfe3[\"CLASE\"].value_counts()"
      ],
      "metadata": {
        "colab": {
          "base_uri": "https://localhost:8080/"
        },
        "id": "qLUWJklG2p3T",
        "outputId": "5bf25c5a-373a-40b0-d3c0-4dec2f11b807"
      },
      "execution_count": 94,
      "outputs": [
        {
          "output_type": "execute_result",
          "data": {
            "text/plain": [
              "Turista                     261731\n",
              "Preferente                   33963\n",
              "Turista Plus                 24347\n",
              "Turista con enlace           20866\n",
              "TuristaSólo plaza H           2477\n",
              "PreferenteSólo plaza H         317\n",
              "Cama Turista                   263\n",
              "Cama G. Clase                   15\n",
              "Turista PlusSólo plaza H         2\n",
              "Name: CLASE, dtype: int64"
            ]
          },
          "metadata": {},
          "execution_count": 94
        }
      ]
    },
    {
      "cell_type": "code",
      "source": [
        "df_renfe3[\"TIPO_TREN\"].value_counts()"
      ],
      "metadata": {
        "colab": {
          "base_uri": "https://localhost:8080/"
        },
        "id": "QL3w5trj3k8c",
        "outputId": "96af8206-3fbf-41e4-9d53-db7e717b478d"
      },
      "execution_count": 95,
      "outputs": [
        {
          "output_type": "execute_result",
          "data": {
            "text/plain": [
              "AVE          236293\n",
              "ALVIA         27231\n",
              "INTERCITY     17827\n",
              "REGIONAL      16817\n",
              "AV City        9754\n",
              "MD-LD          7475\n",
              "LD             5905\n",
              "AVE-TGV        4593\n",
              "R. EXPRES      4165\n",
              "TRENHOTEL      3956\n",
              "AVE-LD         3505\n",
              "AVE-MD         2955\n",
              "LD-MD          2793\n",
              "MD-AVE          871\n",
              "MD              548\n",
              "LD-AVE          499\n",
              "Name: TIPO_TREN, dtype: int64"
            ]
          },
          "metadata": {},
          "execution_count": 95
        }
      ]
    },
    {
      "cell_type": "code",
      "source": [
        "df_renfe3[\"TIPO_TARIFA\"].value_counts()"
      ],
      "metadata": {
        "colab": {
          "base_uri": "https://localhost:8080/"
        },
        "id": "HyY_il0j3w4W",
        "outputId": "6003161b-cb7a-47a5-c4a0-f3869b98d7cb"
      },
      "execution_count": null,
      "outputs": [
        {
          "output_type": "execute_result",
          "data": {
            "text/plain": [
              "Promo                      239839\n",
              "Flexible                    74133\n",
              "Adulto ida                  21624\n",
              "Promo +                      8222\n",
              "COD.PROMOCIONAL               148\n",
              "Individual-Flexible            11\n",
              "Mesa                            8\n",
              "Doble Familiar-Flexible         3\n",
              "4x100                           1\n",
              "Grupos Ida                      1\n",
              "Name: TIPO_TARIFA, dtype: int64"
            ]
          },
          "metadata": {},
          "execution_count": 73
        }
      ]
    },
    {
      "cell_type": "code",
      "source": [
        "df_renfe3[(df_renfe3[\"TIPO_TARIFA\"].isnull()) & (df_renfe3[\"TIPO_TREN\"].isnull()) & (df_renfe3[\"CLASE\"].isnull())]"
      ],
      "metadata": {
        "colab": {
          "base_uri": "https://localhost:8080/",
          "height": 443
        },
        "id": "uX3hF_mj4V9b",
        "outputId": "f03e6837-f363-4f08-a3b2-00d07bcd0773"
      },
      "execution_count": 96,
      "outputs": [
        {
          "output_type": "execute_result",
          "data": {
            "text/plain": [
              "       CIUDAD_ORIGEN CIUDAD_DESTINO TIPO_TREN TIPO_TARIFA CLASE  PRECIO  \\\n",
              "1716          MADRID      BARCELONA       NaN         NaN   NaN     NaN   \n",
              "3278          MADRID      BARCELONA       NaN         NaN   NaN   68.95   \n",
              "4228         SEVILLA         MADRID       NaN         NaN   NaN   53.40   \n",
              "4663       BARCELONA         MADRID       NaN         NaN   NaN   85.10   \n",
              "5291          MADRID        SEVILLA       NaN         NaN   NaN   53.40   \n",
              "...              ...            ...       ...         ...   ...     ...   \n",
              "378017      VALENCIA         MADRID       NaN         NaN   NaN   21.95   \n",
              "378637    PONFERRADA         MADRID       NaN         NaN   NaN     NaN   \n",
              "381265        MADRID        SEVILLA       NaN         NaN   NaN   60.30   \n",
              "382878     BARCELONA         MADRID       NaN         NaN   NaN   43.25   \n",
              "383117      VALENCIA         MADRID       NaN         NaN   NaN   29.90   \n",
              "\n",
              "        tiempo_viaje   Dif_Ini_Bus  FECHA_CONSULTA_HORA  \\\n",
              "1716           150.0  52177.750000                   15   \n",
              "3278           190.0  65510.400000                    7   \n",
              "4228           160.0  45733.500000                   13   \n",
              "4663           190.0  52611.333333                   21   \n",
              "5291           150.0  67137.716667                    1   \n",
              "...              ...           ...                  ...   \n",
              "378017         100.0  70193.000000                    1   \n",
              "378637         300.0   4412.116667                   16   \n",
              "381265         152.0  26410.883333                    5   \n",
              "382878         544.0    939.383333                   17   \n",
              "383117         147.0  32131.583333                   13   \n",
              "\n",
              "       FECHA_CONSULTA_NOMBREDIA  FECHA_CONSULTA_DIA  FECHA_CONSULTA_MES  \\\n",
              "1716                     Sunday                  12                   5   \n",
              "3278                     Friday                   7                   6   \n",
              "4228                   Saturday                  17                   8   \n",
              "4663                   Saturday                  25                   5   \n",
              "5291                    Tuesday                  18                   6   \n",
              "...                         ...                 ...                 ...   \n",
              "378017                 Saturday                   1                   6   \n",
              "378637                   Friday                  19                   4   \n",
              "381265                   Sunday                  21                   4   \n",
              "382878                   Friday                  21                   6   \n",
              "383117                  Tuesday                  30                   4   \n",
              "\n",
              "        FECHA_INICIO_HORA FECHA_INICIO_NOMBREDIA  FECHA_INICIO_DIA  \\\n",
              "1716                   21                 Monday                17   \n",
              "3278                   19                 Monday                22   \n",
              "4228                    7              Wednesday                18   \n",
              "4663                   10                 Monday                 1   \n",
              "5291                   16               Saturday                 3   \n",
              "...                   ...                    ...               ...   \n",
              "378017                 19                 Friday                19   \n",
              "378637                 17                 Monday                22   \n",
              "381265                 14               Thursday                 9   \n",
              "382878                  9               Saturday                22   \n",
              "383117                 21              Wednesday                22   \n",
              "\n",
              "        FECHA_INICIO_MES  FECHA_FIN_HORA FECHA_FIN_NOMBREDIA  FECHA_FIN_DIA  \\\n",
              "1716                   6              23              Monday             17   \n",
              "3278                   7              22              Monday             22   \n",
              "4228                   9               9           Wednesday             18   \n",
              "4663                   7              13              Monday              1   \n",
              "5291                   8              18            Saturday              3   \n",
              "...                  ...             ...                 ...            ...   \n",
              "378017                 7              20              Friday             19   \n",
              "378637                 4              22              Monday             22   \n",
              "381265                 5              16            Thursday              9   \n",
              "382878                 6              18            Saturday             22   \n",
              "383117                 5              23           Wednesday             22   \n",
              "\n",
              "        FECHA_FIN_MES  \n",
              "1716                6  \n",
              "3278                7  \n",
              "4228                9  \n",
              "4663                7  \n",
              "5291                8  \n",
              "...               ...  \n",
              "378017              7  \n",
              "378637              4  \n",
              "381265              5  \n",
              "382878              6  \n",
              "383117              5  \n",
              "\n",
              "[534 rows x 20 columns]"
            ],
            "text/html": [
              "\n",
              "  <div id=\"df-bb5c32c7-7f27-46e5-b0c8-b6ee7e4ed84c\" class=\"colab-df-container\">\n",
              "    <div>\n",
              "<style scoped>\n",
              "    .dataframe tbody tr th:only-of-type {\n",
              "        vertical-align: middle;\n",
              "    }\n",
              "\n",
              "    .dataframe tbody tr th {\n",
              "        vertical-align: top;\n",
              "    }\n",
              "\n",
              "    .dataframe thead th {\n",
              "        text-align: right;\n",
              "    }\n",
              "</style>\n",
              "<table border=\"1\" class=\"dataframe\">\n",
              "  <thead>\n",
              "    <tr style=\"text-align: right;\">\n",
              "      <th></th>\n",
              "      <th>CIUDAD_ORIGEN</th>\n",
              "      <th>CIUDAD_DESTINO</th>\n",
              "      <th>TIPO_TREN</th>\n",
              "      <th>TIPO_TARIFA</th>\n",
              "      <th>CLASE</th>\n",
              "      <th>PRECIO</th>\n",
              "      <th>tiempo_viaje</th>\n",
              "      <th>Dif_Ini_Bus</th>\n",
              "      <th>FECHA_CONSULTA_HORA</th>\n",
              "      <th>FECHA_CONSULTA_NOMBREDIA</th>\n",
              "      <th>FECHA_CONSULTA_DIA</th>\n",
              "      <th>FECHA_CONSULTA_MES</th>\n",
              "      <th>FECHA_INICIO_HORA</th>\n",
              "      <th>FECHA_INICIO_NOMBREDIA</th>\n",
              "      <th>FECHA_INICIO_DIA</th>\n",
              "      <th>FECHA_INICIO_MES</th>\n",
              "      <th>FECHA_FIN_HORA</th>\n",
              "      <th>FECHA_FIN_NOMBREDIA</th>\n",
              "      <th>FECHA_FIN_DIA</th>\n",
              "      <th>FECHA_FIN_MES</th>\n",
              "    </tr>\n",
              "  </thead>\n",
              "  <tbody>\n",
              "    <tr>\n",
              "      <th>1716</th>\n",
              "      <td>MADRID</td>\n",
              "      <td>BARCELONA</td>\n",
              "      <td>NaN</td>\n",
              "      <td>NaN</td>\n",
              "      <td>NaN</td>\n",
              "      <td>NaN</td>\n",
              "      <td>150.0</td>\n",
              "      <td>52177.750000</td>\n",
              "      <td>15</td>\n",
              "      <td>Sunday</td>\n",
              "      <td>12</td>\n",
              "      <td>5</td>\n",
              "      <td>21</td>\n",
              "      <td>Monday</td>\n",
              "      <td>17</td>\n",
              "      <td>6</td>\n",
              "      <td>23</td>\n",
              "      <td>Monday</td>\n",
              "      <td>17</td>\n",
              "      <td>6</td>\n",
              "    </tr>\n",
              "    <tr>\n",
              "      <th>3278</th>\n",
              "      <td>MADRID</td>\n",
              "      <td>BARCELONA</td>\n",
              "      <td>NaN</td>\n",
              "      <td>NaN</td>\n",
              "      <td>NaN</td>\n",
              "      <td>68.95</td>\n",
              "      <td>190.0</td>\n",
              "      <td>65510.400000</td>\n",
              "      <td>7</td>\n",
              "      <td>Friday</td>\n",
              "      <td>7</td>\n",
              "      <td>6</td>\n",
              "      <td>19</td>\n",
              "      <td>Monday</td>\n",
              "      <td>22</td>\n",
              "      <td>7</td>\n",
              "      <td>22</td>\n",
              "      <td>Monday</td>\n",
              "      <td>22</td>\n",
              "      <td>7</td>\n",
              "    </tr>\n",
              "    <tr>\n",
              "      <th>4228</th>\n",
              "      <td>SEVILLA</td>\n",
              "      <td>MADRID</td>\n",
              "      <td>NaN</td>\n",
              "      <td>NaN</td>\n",
              "      <td>NaN</td>\n",
              "      <td>53.40</td>\n",
              "      <td>160.0</td>\n",
              "      <td>45733.500000</td>\n",
              "      <td>13</td>\n",
              "      <td>Saturday</td>\n",
              "      <td>17</td>\n",
              "      <td>8</td>\n",
              "      <td>7</td>\n",
              "      <td>Wednesday</td>\n",
              "      <td>18</td>\n",
              "      <td>9</td>\n",
              "      <td>9</td>\n",
              "      <td>Wednesday</td>\n",
              "      <td>18</td>\n",
              "      <td>9</td>\n",
              "    </tr>\n",
              "    <tr>\n",
              "      <th>4663</th>\n",
              "      <td>BARCELONA</td>\n",
              "      <td>MADRID</td>\n",
              "      <td>NaN</td>\n",
              "      <td>NaN</td>\n",
              "      <td>NaN</td>\n",
              "      <td>85.10</td>\n",
              "      <td>190.0</td>\n",
              "      <td>52611.333333</td>\n",
              "      <td>21</td>\n",
              "      <td>Saturday</td>\n",
              "      <td>25</td>\n",
              "      <td>5</td>\n",
              "      <td>10</td>\n",
              "      <td>Monday</td>\n",
              "      <td>1</td>\n",
              "      <td>7</td>\n",
              "      <td>13</td>\n",
              "      <td>Monday</td>\n",
              "      <td>1</td>\n",
              "      <td>7</td>\n",
              "    </tr>\n",
              "    <tr>\n",
              "      <th>5291</th>\n",
              "      <td>MADRID</td>\n",
              "      <td>SEVILLA</td>\n",
              "      <td>NaN</td>\n",
              "      <td>NaN</td>\n",
              "      <td>NaN</td>\n",
              "      <td>53.40</td>\n",
              "      <td>150.0</td>\n",
              "      <td>67137.716667</td>\n",
              "      <td>1</td>\n",
              "      <td>Tuesday</td>\n",
              "      <td>18</td>\n",
              "      <td>6</td>\n",
              "      <td>16</td>\n",
              "      <td>Saturday</td>\n",
              "      <td>3</td>\n",
              "      <td>8</td>\n",
              "      <td>18</td>\n",
              "      <td>Saturday</td>\n",
              "      <td>3</td>\n",
              "      <td>8</td>\n",
              "    </tr>\n",
              "    <tr>\n",
              "      <th>...</th>\n",
              "      <td>...</td>\n",
              "      <td>...</td>\n",
              "      <td>...</td>\n",
              "      <td>...</td>\n",
              "      <td>...</td>\n",
              "      <td>...</td>\n",
              "      <td>...</td>\n",
              "      <td>...</td>\n",
              "      <td>...</td>\n",
              "      <td>...</td>\n",
              "      <td>...</td>\n",
              "      <td>...</td>\n",
              "      <td>...</td>\n",
              "      <td>...</td>\n",
              "      <td>...</td>\n",
              "      <td>...</td>\n",
              "      <td>...</td>\n",
              "      <td>...</td>\n",
              "      <td>...</td>\n",
              "      <td>...</td>\n",
              "    </tr>\n",
              "    <tr>\n",
              "      <th>378017</th>\n",
              "      <td>VALENCIA</td>\n",
              "      <td>MADRID</td>\n",
              "      <td>NaN</td>\n",
              "      <td>NaN</td>\n",
              "      <td>NaN</td>\n",
              "      <td>21.95</td>\n",
              "      <td>100.0</td>\n",
              "      <td>70193.000000</td>\n",
              "      <td>1</td>\n",
              "      <td>Saturday</td>\n",
              "      <td>1</td>\n",
              "      <td>6</td>\n",
              "      <td>19</td>\n",
              "      <td>Friday</td>\n",
              "      <td>19</td>\n",
              "      <td>7</td>\n",
              "      <td>20</td>\n",
              "      <td>Friday</td>\n",
              "      <td>19</td>\n",
              "      <td>7</td>\n",
              "    </tr>\n",
              "    <tr>\n",
              "      <th>378637</th>\n",
              "      <td>PONFERRADA</td>\n",
              "      <td>MADRID</td>\n",
              "      <td>NaN</td>\n",
              "      <td>NaN</td>\n",
              "      <td>NaN</td>\n",
              "      <td>NaN</td>\n",
              "      <td>300.0</td>\n",
              "      <td>4412.116667</td>\n",
              "      <td>16</td>\n",
              "      <td>Friday</td>\n",
              "      <td>19</td>\n",
              "      <td>4</td>\n",
              "      <td>17</td>\n",
              "      <td>Monday</td>\n",
              "      <td>22</td>\n",
              "      <td>4</td>\n",
              "      <td>22</td>\n",
              "      <td>Monday</td>\n",
              "      <td>22</td>\n",
              "      <td>4</td>\n",
              "    </tr>\n",
              "    <tr>\n",
              "      <th>381265</th>\n",
              "      <td>MADRID</td>\n",
              "      <td>SEVILLA</td>\n",
              "      <td>NaN</td>\n",
              "      <td>NaN</td>\n",
              "      <td>NaN</td>\n",
              "      <td>60.30</td>\n",
              "      <td>152.0</td>\n",
              "      <td>26410.883333</td>\n",
              "      <td>5</td>\n",
              "      <td>Sunday</td>\n",
              "      <td>21</td>\n",
              "      <td>4</td>\n",
              "      <td>14</td>\n",
              "      <td>Thursday</td>\n",
              "      <td>9</td>\n",
              "      <td>5</td>\n",
              "      <td>16</td>\n",
              "      <td>Thursday</td>\n",
              "      <td>9</td>\n",
              "      <td>5</td>\n",
              "    </tr>\n",
              "    <tr>\n",
              "      <th>382878</th>\n",
              "      <td>BARCELONA</td>\n",
              "      <td>MADRID</td>\n",
              "      <td>NaN</td>\n",
              "      <td>NaN</td>\n",
              "      <td>NaN</td>\n",
              "      <td>43.25</td>\n",
              "      <td>544.0</td>\n",
              "      <td>939.383333</td>\n",
              "      <td>17</td>\n",
              "      <td>Friday</td>\n",
              "      <td>21</td>\n",
              "      <td>6</td>\n",
              "      <td>9</td>\n",
              "      <td>Saturday</td>\n",
              "      <td>22</td>\n",
              "      <td>6</td>\n",
              "      <td>18</td>\n",
              "      <td>Saturday</td>\n",
              "      <td>22</td>\n",
              "      <td>6</td>\n",
              "    </tr>\n",
              "    <tr>\n",
              "      <th>383117</th>\n",
              "      <td>VALENCIA</td>\n",
              "      <td>MADRID</td>\n",
              "      <td>NaN</td>\n",
              "      <td>NaN</td>\n",
              "      <td>NaN</td>\n",
              "      <td>29.90</td>\n",
              "      <td>147.0</td>\n",
              "      <td>32131.583333</td>\n",
              "      <td>13</td>\n",
              "      <td>Tuesday</td>\n",
              "      <td>30</td>\n",
              "      <td>4</td>\n",
              "      <td>21</td>\n",
              "      <td>Wednesday</td>\n",
              "      <td>22</td>\n",
              "      <td>5</td>\n",
              "      <td>23</td>\n",
              "      <td>Wednesday</td>\n",
              "      <td>22</td>\n",
              "      <td>5</td>\n",
              "    </tr>\n",
              "  </tbody>\n",
              "</table>\n",
              "<p>534 rows × 20 columns</p>\n",
              "</div>\n",
              "    <div class=\"colab-df-buttons\">\n",
              "\n",
              "  <div class=\"colab-df-container\">\n",
              "    <button class=\"colab-df-convert\" onclick=\"convertToInteractive('df-bb5c32c7-7f27-46e5-b0c8-b6ee7e4ed84c')\"\n",
              "            title=\"Convert this dataframe to an interactive table.\"\n",
              "            style=\"display:none;\">\n",
              "\n",
              "  <svg xmlns=\"http://www.w3.org/2000/svg\" height=\"24px\" viewBox=\"0 -960 960 960\">\n",
              "    <path d=\"M120-120v-720h720v720H120Zm60-500h600v-160H180v160Zm220 220h160v-160H400v160Zm0 220h160v-160H400v160ZM180-400h160v-160H180v160Zm440 0h160v-160H620v160ZM180-180h160v-160H180v160Zm440 0h160v-160H620v160Z\"/>\n",
              "  </svg>\n",
              "    </button>\n",
              "\n",
              "  <style>\n",
              "    .colab-df-container {\n",
              "      display:flex;\n",
              "      gap: 12px;\n",
              "    }\n",
              "\n",
              "    .colab-df-convert {\n",
              "      background-color: #E8F0FE;\n",
              "      border: none;\n",
              "      border-radius: 50%;\n",
              "      cursor: pointer;\n",
              "      display: none;\n",
              "      fill: #1967D2;\n",
              "      height: 32px;\n",
              "      padding: 0 0 0 0;\n",
              "      width: 32px;\n",
              "    }\n",
              "\n",
              "    .colab-df-convert:hover {\n",
              "      background-color: #E2EBFA;\n",
              "      box-shadow: 0px 1px 2px rgba(60, 64, 67, 0.3), 0px 1px 3px 1px rgba(60, 64, 67, 0.15);\n",
              "      fill: #174EA6;\n",
              "    }\n",
              "\n",
              "    .colab-df-buttons div {\n",
              "      margin-bottom: 4px;\n",
              "    }\n",
              "\n",
              "    [theme=dark] .colab-df-convert {\n",
              "      background-color: #3B4455;\n",
              "      fill: #D2E3FC;\n",
              "    }\n",
              "\n",
              "    [theme=dark] .colab-df-convert:hover {\n",
              "      background-color: #434B5C;\n",
              "      box-shadow: 0px 1px 3px 1px rgba(0, 0, 0, 0.15);\n",
              "      filter: drop-shadow(0px 1px 2px rgba(0, 0, 0, 0.3));\n",
              "      fill: #FFFFFF;\n",
              "    }\n",
              "  </style>\n",
              "\n",
              "    <script>\n",
              "      const buttonEl =\n",
              "        document.querySelector('#df-bb5c32c7-7f27-46e5-b0c8-b6ee7e4ed84c button.colab-df-convert');\n",
              "      buttonEl.style.display =\n",
              "        google.colab.kernel.accessAllowed ? 'block' : 'none';\n",
              "\n",
              "      async function convertToInteractive(key) {\n",
              "        const element = document.querySelector('#df-bb5c32c7-7f27-46e5-b0c8-b6ee7e4ed84c');\n",
              "        const dataTable =\n",
              "          await google.colab.kernel.invokeFunction('convertToInteractive',\n",
              "                                                    [key], {});\n",
              "        if (!dataTable) return;\n",
              "\n",
              "        const docLinkHtml = 'Like what you see? Visit the ' +\n",
              "          '<a target=\"_blank\" href=https://colab.research.google.com/notebooks/data_table.ipynb>data table notebook</a>'\n",
              "          + ' to learn more about interactive tables.';\n",
              "        element.innerHTML = '';\n",
              "        dataTable['output_type'] = 'display_data';\n",
              "        await google.colab.output.renderOutput(dataTable, element);\n",
              "        const docLink = document.createElement('div');\n",
              "        docLink.innerHTML = docLinkHtml;\n",
              "        element.appendChild(docLink);\n",
              "      }\n",
              "    </script>\n",
              "  </div>\n",
              "\n",
              "\n",
              "<div id=\"df-4843c14f-62d9-4422-a31e-5703900fbb1f\">\n",
              "  <button class=\"colab-df-quickchart\" onclick=\"quickchart('df-4843c14f-62d9-4422-a31e-5703900fbb1f')\"\n",
              "            title=\"Suggest charts.\"\n",
              "            style=\"display:none;\">\n",
              "\n",
              "<svg xmlns=\"http://www.w3.org/2000/svg\" height=\"24px\"viewBox=\"0 0 24 24\"\n",
              "     width=\"24px\">\n",
              "    <g>\n",
              "        <path d=\"M19 3H5c-1.1 0-2 .9-2 2v14c0 1.1.9 2 2 2h14c1.1 0 2-.9 2-2V5c0-1.1-.9-2-2-2zM9 17H7v-7h2v7zm4 0h-2V7h2v10zm4 0h-2v-4h2v4z\"/>\n",
              "    </g>\n",
              "</svg>\n",
              "  </button>\n",
              "\n",
              "<style>\n",
              "  .colab-df-quickchart {\n",
              "      --bg-color: #E8F0FE;\n",
              "      --fill-color: #1967D2;\n",
              "      --hover-bg-color: #E2EBFA;\n",
              "      --hover-fill-color: #174EA6;\n",
              "      --disabled-fill-color: #AAA;\n",
              "      --disabled-bg-color: #DDD;\n",
              "  }\n",
              "\n",
              "  [theme=dark] .colab-df-quickchart {\n",
              "      --bg-color: #3B4455;\n",
              "      --fill-color: #D2E3FC;\n",
              "      --hover-bg-color: #434B5C;\n",
              "      --hover-fill-color: #FFFFFF;\n",
              "      --disabled-bg-color: #3B4455;\n",
              "      --disabled-fill-color: #666;\n",
              "  }\n",
              "\n",
              "  .colab-df-quickchart {\n",
              "    background-color: var(--bg-color);\n",
              "    border: none;\n",
              "    border-radius: 50%;\n",
              "    cursor: pointer;\n",
              "    display: none;\n",
              "    fill: var(--fill-color);\n",
              "    height: 32px;\n",
              "    padding: 0;\n",
              "    width: 32px;\n",
              "  }\n",
              "\n",
              "  .colab-df-quickchart:hover {\n",
              "    background-color: var(--hover-bg-color);\n",
              "    box-shadow: 0 1px 2px rgba(60, 64, 67, 0.3), 0 1px 3px 1px rgba(60, 64, 67, 0.15);\n",
              "    fill: var(--button-hover-fill-color);\n",
              "  }\n",
              "\n",
              "  .colab-df-quickchart-complete:disabled,\n",
              "  .colab-df-quickchart-complete:disabled:hover {\n",
              "    background-color: var(--disabled-bg-color);\n",
              "    fill: var(--disabled-fill-color);\n",
              "    box-shadow: none;\n",
              "  }\n",
              "\n",
              "  .colab-df-spinner {\n",
              "    border: 2px solid var(--fill-color);\n",
              "    border-color: transparent;\n",
              "    border-bottom-color: var(--fill-color);\n",
              "    animation:\n",
              "      spin 1s steps(1) infinite;\n",
              "  }\n",
              "\n",
              "  @keyframes spin {\n",
              "    0% {\n",
              "      border-color: transparent;\n",
              "      border-bottom-color: var(--fill-color);\n",
              "      border-left-color: var(--fill-color);\n",
              "    }\n",
              "    20% {\n",
              "      border-color: transparent;\n",
              "      border-left-color: var(--fill-color);\n",
              "      border-top-color: var(--fill-color);\n",
              "    }\n",
              "    30% {\n",
              "      border-color: transparent;\n",
              "      border-left-color: var(--fill-color);\n",
              "      border-top-color: var(--fill-color);\n",
              "      border-right-color: var(--fill-color);\n",
              "    }\n",
              "    40% {\n",
              "      border-color: transparent;\n",
              "      border-right-color: var(--fill-color);\n",
              "      border-top-color: var(--fill-color);\n",
              "    }\n",
              "    60% {\n",
              "      border-color: transparent;\n",
              "      border-right-color: var(--fill-color);\n",
              "    }\n",
              "    80% {\n",
              "      border-color: transparent;\n",
              "      border-right-color: var(--fill-color);\n",
              "      border-bottom-color: var(--fill-color);\n",
              "    }\n",
              "    90% {\n",
              "      border-color: transparent;\n",
              "      border-bottom-color: var(--fill-color);\n",
              "    }\n",
              "  }\n",
              "</style>\n",
              "\n",
              "  <script>\n",
              "    async function quickchart(key) {\n",
              "      const quickchartButtonEl =\n",
              "        document.querySelector('#' + key + ' button');\n",
              "      quickchartButtonEl.disabled = true;  // To prevent multiple clicks.\n",
              "      quickchartButtonEl.classList.add('colab-df-spinner');\n",
              "      try {\n",
              "        const charts = await google.colab.kernel.invokeFunction(\n",
              "            'suggestCharts', [key], {});\n",
              "      } catch (error) {\n",
              "        console.error('Error during call to suggestCharts:', error);\n",
              "      }\n",
              "      quickchartButtonEl.classList.remove('colab-df-spinner');\n",
              "      quickchartButtonEl.classList.add('colab-df-quickchart-complete');\n",
              "    }\n",
              "    (() => {\n",
              "      let quickchartButtonEl =\n",
              "        document.querySelector('#df-4843c14f-62d9-4422-a31e-5703900fbb1f button');\n",
              "      quickchartButtonEl.style.display =\n",
              "        google.colab.kernel.accessAllowed ? 'block' : 'none';\n",
              "    })();\n",
              "  </script>\n",
              "</div>\n",
              "    </div>\n",
              "  </div>\n"
            ]
          },
          "metadata": {},
          "execution_count": 96
        }
      ]
    },
    {
      "cell_type": "code",
      "source": [
        "df_renfe4 = df_renfe3.copy()"
      ],
      "metadata": {
        "id": "_r2YcjFQ8bkO"
      },
      "execution_count": 97,
      "outputs": []
    },
    {
      "cell_type": "code",
      "source": [
        "df_renfe4[\"PRECIO\"].isnull().sum()"
      ],
      "metadata": {
        "colab": {
          "base_uri": "https://localhost:8080/"
        },
        "id": "bfPxHPbx8gap",
        "outputId": "8c1e4019-4250-44d4-b39f-fb1d2533e358"
      },
      "execution_count": 98,
      "outputs": [
        {
          "output_type": "execute_result",
          "data": {
            "text/plain": [
              "28516"
            ]
          },
          "metadata": {},
          "execution_count": 98
        }
      ]
    },
    {
      "cell_type": "code",
      "source": [
        "df_renfe4.dropna(subset=[\"PRECIO\"], inplace=True)"
      ],
      "metadata": {
        "id": "J-O6O2le8tz9"
      },
      "execution_count": 99,
      "outputs": []
    },
    {
      "cell_type": "code",
      "source": [
        "df_renfe4[\"TIPO_TREN\"].fillna(\"SIN_CATEGORIA\", inplace=True)"
      ],
      "metadata": {
        "id": "RqxaJqEi9lMk"
      },
      "execution_count": 100,
      "outputs": []
    },
    {
      "cell_type": "code",
      "source": [
        "lista_nulos =[\"TIPO_TREN\",\"TIPO_TARIFA\",\"CLASE\"]"
      ],
      "metadata": {
        "id": "OIqTj46_-O5L"
      },
      "execution_count": 101,
      "outputs": []
    },
    {
      "cell_type": "code",
      "source": [
        "for i in lista_nulos:\n",
        "  df_renfe4[i].fillna('Sin valor', inplace=True)"
      ],
      "metadata": {
        "id": "9tWPbHoJ-GAT"
      },
      "execution_count": 102,
      "outputs": []
    },
    {
      "cell_type": "code",
      "source": [
        "#PREGUNTA 8"
      ],
      "metadata": {
        "id": "PEWSK1_SoG0D"
      },
      "execution_count": null,
      "outputs": []
    },
    {
      "cell_type": "code",
      "metadata": {
        "id": "IjS2PXVindy4"
      },
      "source": [
        "target = ['PRECIO']\n",
        "def obtener_lista_variables(dataset):\n",
        "  lista_num = []\n",
        "  lista_bool = []\n",
        "  lista_cat = []\n",
        "  for i in dataset:\n",
        "    if ((dataset[i].dtype.kind=='i') or (dataset[i].dtype.kind=='f')) and i not in target and len(dataset[i].unique())!=2 :\n",
        "      lista_num.append(i)\n",
        "    elif ((dataset[i].dtype.kind=='i')) and i not in target and len(dataset[i].unique())==2:\n",
        "      lista_bool.append(i)\n",
        "    elif ((dataset[i].dtype.kind=='O') ) and i not in target:\n",
        "      lista_cat.append(i)\n",
        "  return lista_num, lista_bool, lista_cat\n",
        "\n"
      ],
      "execution_count": 103,
      "outputs": []
    },
    {
      "cell_type": "code",
      "source": [],
      "metadata": {
        "id": "g38JhgDFauPu"
      },
      "execution_count": null,
      "outputs": []
    },
    {
      "cell_type": "code",
      "source": [
        "#PREGUNTA 9"
      ],
      "metadata": {
        "id": "zSxnRji5p4oH"
      },
      "execution_count": null,
      "outputs": []
    },
    {
      "cell_type": "code",
      "source": [],
      "metadata": {
        "id": "DCzXI-Nuaypi"
      },
      "execution_count": null,
      "outputs": []
    },
    {
      "cell_type": "markdown",
      "source": [
        "A. ¿Cuál es la fecha mínima y máxima de consulta de las simulaciones?"
      ],
      "metadata": {
        "id": "LiMAf03Ga1xD"
      }
    },
    {
      "cell_type": "code",
      "source": [
        "fecha_minima = df_renfe4['FECHA_CONSULTA'].min()"
      ],
      "metadata": {
        "id": "I6FKYIFkqCk2",
        "colab": {
          "base_uri": "https://localhost:8080/",
          "height": 527
        },
        "outputId": "4e332910-a369-4d42-c70d-9b4edf11e89f"
      },
      "execution_count": 120,
      "outputs": [
        {
          "output_type": "error",
          "ename": "KeyError",
          "evalue": "ignored",
          "traceback": [
            "\u001b[0;31m---------------------------------------------------------------------------\u001b[0m",
            "\u001b[0;31mKeyError\u001b[0m                                  Traceback (most recent call last)",
            "\u001b[0;32m/usr/local/lib/python3.10/dist-packages/pandas/core/indexes/base.py\u001b[0m in \u001b[0;36mget_loc\u001b[0;34m(self, key, method, tolerance)\u001b[0m\n\u001b[1;32m   3801\u001b[0m             \u001b[0;32mtry\u001b[0m\u001b[0;34m:\u001b[0m\u001b[0;34m\u001b[0m\u001b[0;34m\u001b[0m\u001b[0m\n\u001b[0;32m-> 3802\u001b[0;31m                 \u001b[0;32mreturn\u001b[0m \u001b[0mself\u001b[0m\u001b[0;34m.\u001b[0m\u001b[0m_engine\u001b[0m\u001b[0;34m.\u001b[0m\u001b[0mget_loc\u001b[0m\u001b[0;34m(\u001b[0m\u001b[0mcasted_key\u001b[0m\u001b[0;34m)\u001b[0m\u001b[0;34m\u001b[0m\u001b[0;34m\u001b[0m\u001b[0m\n\u001b[0m\u001b[1;32m   3803\u001b[0m             \u001b[0;32mexcept\u001b[0m \u001b[0mKeyError\u001b[0m \u001b[0;32mas\u001b[0m \u001b[0merr\u001b[0m\u001b[0;34m:\u001b[0m\u001b[0;34m\u001b[0m\u001b[0;34m\u001b[0m\u001b[0m\n",
            "\u001b[0;32m/usr/local/lib/python3.10/dist-packages/pandas/_libs/index.pyx\u001b[0m in \u001b[0;36mpandas._libs.index.IndexEngine.get_loc\u001b[0;34m()\u001b[0m\n",
            "\u001b[0;32m/usr/local/lib/python3.10/dist-packages/pandas/_libs/index.pyx\u001b[0m in \u001b[0;36mpandas._libs.index.IndexEngine.get_loc\u001b[0;34m()\u001b[0m\n",
            "\u001b[0;32mpandas/_libs/hashtable_class_helper.pxi\u001b[0m in \u001b[0;36mpandas._libs.hashtable.PyObjectHashTable.get_item\u001b[0;34m()\u001b[0m\n",
            "\u001b[0;32mpandas/_libs/hashtable_class_helper.pxi\u001b[0m in \u001b[0;36mpandas._libs.hashtable.PyObjectHashTable.get_item\u001b[0;34m()\u001b[0m\n",
            "\u001b[0;31mKeyError\u001b[0m: 'FECHA_CONSULTA'",
            "\nThe above exception was the direct cause of the following exception:\n",
            "\u001b[0;31mKeyError\u001b[0m                                  Traceback (most recent call last)",
            "\u001b[0;32m<ipython-input-120-4a4540b22c83>\u001b[0m in \u001b[0;36m<cell line: 1>\u001b[0;34m()\u001b[0m\n\u001b[0;32m----> 1\u001b[0;31m \u001b[0mfecha_minima\u001b[0m \u001b[0;34m=\u001b[0m \u001b[0mdf_renfe4\u001b[0m\u001b[0;34m[\u001b[0m\u001b[0;34m'FECHA_CONSULTA'\u001b[0m\u001b[0;34m]\u001b[0m\u001b[0;34m.\u001b[0m\u001b[0mmin\u001b[0m\u001b[0;34m(\u001b[0m\u001b[0;34m)\u001b[0m\u001b[0;34m\u001b[0m\u001b[0;34m\u001b[0m\u001b[0m\n\u001b[0m",
            "\u001b[0;32m/usr/local/lib/python3.10/dist-packages/pandas/core/frame.py\u001b[0m in \u001b[0;36m__getitem__\u001b[0;34m(self, key)\u001b[0m\n\u001b[1;32m   3805\u001b[0m             \u001b[0;32mif\u001b[0m \u001b[0mself\u001b[0m\u001b[0;34m.\u001b[0m\u001b[0mcolumns\u001b[0m\u001b[0;34m.\u001b[0m\u001b[0mnlevels\u001b[0m \u001b[0;34m>\u001b[0m \u001b[0;36m1\u001b[0m\u001b[0;34m:\u001b[0m\u001b[0;34m\u001b[0m\u001b[0;34m\u001b[0m\u001b[0m\n\u001b[1;32m   3806\u001b[0m                 \u001b[0;32mreturn\u001b[0m \u001b[0mself\u001b[0m\u001b[0;34m.\u001b[0m\u001b[0m_getitem_multilevel\u001b[0m\u001b[0;34m(\u001b[0m\u001b[0mkey\u001b[0m\u001b[0;34m)\u001b[0m\u001b[0;34m\u001b[0m\u001b[0;34m\u001b[0m\u001b[0m\n\u001b[0;32m-> 3807\u001b[0;31m             \u001b[0mindexer\u001b[0m \u001b[0;34m=\u001b[0m \u001b[0mself\u001b[0m\u001b[0;34m.\u001b[0m\u001b[0mcolumns\u001b[0m\u001b[0;34m.\u001b[0m\u001b[0mget_loc\u001b[0m\u001b[0;34m(\u001b[0m\u001b[0mkey\u001b[0m\u001b[0;34m)\u001b[0m\u001b[0;34m\u001b[0m\u001b[0;34m\u001b[0m\u001b[0m\n\u001b[0m\u001b[1;32m   3808\u001b[0m             \u001b[0;32mif\u001b[0m \u001b[0mis_integer\u001b[0m\u001b[0;34m(\u001b[0m\u001b[0mindexer\u001b[0m\u001b[0;34m)\u001b[0m\u001b[0;34m:\u001b[0m\u001b[0;34m\u001b[0m\u001b[0;34m\u001b[0m\u001b[0m\n\u001b[1;32m   3809\u001b[0m                 \u001b[0mindexer\u001b[0m \u001b[0;34m=\u001b[0m \u001b[0;34m[\u001b[0m\u001b[0mindexer\u001b[0m\u001b[0;34m]\u001b[0m\u001b[0;34m\u001b[0m\u001b[0;34m\u001b[0m\u001b[0m\n",
            "\u001b[0;32m/usr/local/lib/python3.10/dist-packages/pandas/core/indexes/base.py\u001b[0m in \u001b[0;36mget_loc\u001b[0;34m(self, key, method, tolerance)\u001b[0m\n\u001b[1;32m   3802\u001b[0m                 \u001b[0;32mreturn\u001b[0m \u001b[0mself\u001b[0m\u001b[0;34m.\u001b[0m\u001b[0m_engine\u001b[0m\u001b[0;34m.\u001b[0m\u001b[0mget_loc\u001b[0m\u001b[0;34m(\u001b[0m\u001b[0mcasted_key\u001b[0m\u001b[0;34m)\u001b[0m\u001b[0;34m\u001b[0m\u001b[0;34m\u001b[0m\u001b[0m\n\u001b[1;32m   3803\u001b[0m             \u001b[0;32mexcept\u001b[0m \u001b[0mKeyError\u001b[0m \u001b[0;32mas\u001b[0m \u001b[0merr\u001b[0m\u001b[0;34m:\u001b[0m\u001b[0;34m\u001b[0m\u001b[0;34m\u001b[0m\u001b[0m\n\u001b[0;32m-> 3804\u001b[0;31m                 \u001b[0;32mraise\u001b[0m \u001b[0mKeyError\u001b[0m\u001b[0;34m(\u001b[0m\u001b[0mkey\u001b[0m\u001b[0;34m)\u001b[0m \u001b[0;32mfrom\u001b[0m \u001b[0merr\u001b[0m\u001b[0;34m\u001b[0m\u001b[0;34m\u001b[0m\u001b[0m\n\u001b[0m\u001b[1;32m   3805\u001b[0m             \u001b[0;32mexcept\u001b[0m \u001b[0mTypeError\u001b[0m\u001b[0;34m:\u001b[0m\u001b[0;34m\u001b[0m\u001b[0;34m\u001b[0m\u001b[0m\n\u001b[1;32m   3806\u001b[0m                 \u001b[0;31m# If we have a listlike key, _check_indexing_error will raise\u001b[0m\u001b[0;34m\u001b[0m\u001b[0;34m\u001b[0m\u001b[0m\n",
            "\u001b[0;31mKeyError\u001b[0m: 'FECHA_CONSULTA'"
          ]
        }
      ]
    },
    {
      "cell_type": "code",
      "source": [
        "print(\"Fecha mínima de consulta:\", fecha_minima)"
      ],
      "metadata": {
        "colab": {
          "base_uri": "https://localhost:8080/"
        },
        "id": "tzhRZk-zbsly",
        "outputId": "a987fa90-e76a-426d-a02b-93e74e917867"
      },
      "execution_count": 104,
      "outputs": [
        {
          "output_type": "stream",
          "name": "stdout",
          "text": [
            "Fecha mínima de consulta: 2019-04-11 21:49:46\n"
          ]
        }
      ]
    },
    {
      "cell_type": "code",
      "source": [
        "fecha_maxima = df_renfe['FECHA_CONSULTA'].max()"
      ],
      "metadata": {
        "id": "DAf6q7MubyL1"
      },
      "execution_count": 114,
      "outputs": []
    },
    {
      "cell_type": "code",
      "source": [
        "print(\"Fecha máxima de consulta:\", fecha_maxima)"
      ],
      "metadata": {
        "colab": {
          "base_uri": "https://localhost:8080/"
        },
        "id": "CjmdEHgAb-Iv",
        "outputId": "5489c766-5502-4ba9-93b5-185cbd48d6d1"
      },
      "execution_count": 43,
      "outputs": [
        {
          "output_type": "stream",
          "name": "stdout",
          "text": [
            "Fecha máxima de consulta: 2019-08-22 19:06:26\n"
          ]
        }
      ]
    },
    {
      "cell_type": "markdown",
      "source": [
        "B. ¿Cuál es el precio mímino, máximo y medio del billete?"
      ],
      "metadata": {
        "id": "dedjRRztgD9J"
      }
    },
    {
      "cell_type": "code",
      "source": [
        "precio_minimo = df_renfe4['PRECIO'].min()"
      ],
      "metadata": {
        "id": "TeHHoX6odlTi"
      },
      "execution_count": 46,
      "outputs": []
    },
    {
      "cell_type": "code",
      "source": [
        "\n",
        "print(\"Precio mínimo:\", precio_minimo)"
      ],
      "metadata": {
        "colab": {
          "base_uri": "https://localhost:8080/"
        },
        "id": "QsPpCf_0dlV2",
        "outputId": "72325735-01bb-4693-e949-786f999d1d47"
      },
      "execution_count": 47,
      "outputs": [
        {
          "output_type": "stream",
          "name": "stdout",
          "text": [
            "Precio mínimo: 0.0\n"
          ]
        }
      ]
    },
    {
      "cell_type": "code",
      "source": [
        "precio_maximo = df_renfe4['PRECIO'].max()"
      ],
      "metadata": {
        "id": "qo3oe2oxdlc8"
      },
      "execution_count": 48,
      "outputs": []
    },
    {
      "cell_type": "code",
      "source": [
        "print(\"Precio maximo:\", precio_maximo)"
      ],
      "metadata": {
        "colab": {
          "base_uri": "https://localhost:8080/"
        },
        "id": "jTxsZusIeIAD",
        "outputId": "8f71a1be-51cb-47ae-c763-dab18f94f268"
      },
      "execution_count": 50,
      "outputs": [
        {
          "output_type": "stream",
          "name": "stdout",
          "text": [
            "Precio maximo: 342.8\n"
          ]
        }
      ]
    },
    {
      "cell_type": "code",
      "source": [
        "df_renfe4[\"PRECIO\"].hist()"
      ],
      "metadata": {
        "colab": {
          "base_uri": "https://localhost:8080/",
          "height": 448
        },
        "id": "tFeQuqn7e3Ny",
        "outputId": "789afba5-7958-45bc-e17b-cef53e9f20f2"
      },
      "execution_count": 115,
      "outputs": [
        {
          "output_type": "execute_result",
          "data": {
            "text/plain": [
              "<Axes: >"
            ]
          },
          "metadata": {},
          "execution_count": 115
        },
        {
          "output_type": "display_data",
          "data": {
            "text/plain": [
              "<Figure size 640x480 with 1 Axes>"
            ],
            "image/png": "[encoded data removed]"
          },
          "metadata": {}
        }
      ]
    },
    {
      "cell_type": "code",
      "source": [
        "precio_medio = df_renfe4['PRECIO'].mean()"
      ],
      "metadata": {
        "id": "0ewVz6E1fAKR"
      },
      "execution_count": 59,
      "outputs": []
    },
    {
      "cell_type": "code",
      "source": [
        "print(\"El precio medio es:\", precio_medio)"
      ],
      "metadata": {
        "colab": {
          "base_uri": "https://localhost:8080/"
        },
        "id": "90kAzAFSfoNu",
        "outputId": "646dbfd2-38b5-4382-9ff7-89d7c9b73c60"
      },
      "execution_count": 105,
      "outputs": [
        {
          "output_type": "stream",
          "name": "stdout",
          "text": [
            "El precio medio es: 61.435680763207436\n"
          ]
        }
      ]
    },
    {
      "cell_type": "markdown",
      "source": [
        "C. ¿Cuántas rutas se simularon en el mes de agosto de 2019?"
      ],
      "metadata": {
        "id": "EHvHGiHVgHWX"
      }
    },
    {
      "cell_type": "code",
      "source": [
        "#Sobre: \"FECHA_CONSULTA\""
      ],
      "metadata": {
        "id": "L5C0SY2sgLMT"
      },
      "execution_count": null,
      "outputs": []
    },
    {
      "cell_type": "code",
      "source": [
        "simulaciones = df_renfe[(df_renfe['FECHA_CONSULTA'].dt.month == 8) & (df_renfe[\"FECHA_CONSULTA\"].dt.year == 2019)]"
      ],
      "metadata": {
        "colab": {
          "base_uri": "https://localhost:8080/",
          "height": 293
        },
        "id": "GWI9AO6XhaCU",
        "outputId": "55aa0168-814b-47ee-edfb-97f8d5d70937"
      },
      "execution_count": 118,
      "outputs": [
        {
          "output_type": "error",
          "ename": "AttributeError",
          "evalue": "ignored",
          "traceback": [
            "\u001b[0;31m---------------------------------------------------------------------------\u001b[0m",
            "\u001b[0;31mAttributeError\u001b[0m                            Traceback (most recent call last)",
            "\u001b[0;32m<ipython-input-118-a194683f8b09>\u001b[0m in \u001b[0;36m<cell line: 1>\u001b[0;34m()\u001b[0m\n\u001b[0;32m----> 1\u001b[0;31m \u001b[0msimulaciones\u001b[0m \u001b[0;34m=\u001b[0m \u001b[0mdf_renfe\u001b[0m\u001b[0;34m[\u001b[0m\u001b[0;34m(\u001b[0m\u001b[0mdf_renfe\u001b[0m\u001b[0;34m[\u001b[0m\u001b[0;34m'FECHA_CONSULTA'\u001b[0m\u001b[0;34m]\u001b[0m\u001b[0;34m.\u001b[0m\u001b[0mdt\u001b[0m\u001b[0;34m.\u001b[0m\u001b[0mmonth\u001b[0m \u001b[0;34m==\u001b[0m \u001b[0;36m8\u001b[0m\u001b[0;34m)\u001b[0m \u001b[0;34m&\u001b[0m \u001b[0;34m(\u001b[0m\u001b[0mdf_renfe\u001b[0m\u001b[0;34m[\u001b[0m\u001b[0;34m\"FECHA_CONSULTA\"\u001b[0m\u001b[0;34m]\u001b[0m\u001b[0;34m.\u001b[0m\u001b[0mdt\u001b[0m\u001b[0;34m.\u001b[0m\u001b[0myear\u001b[0m \u001b[0;34m==\u001b[0m \u001b[0;36m2019\u001b[0m\u001b[0;34m)\u001b[0m\u001b[0;34m]\u001b[0m\u001b[0;34m\u001b[0m\u001b[0;34m\u001b[0m\u001b[0m\n\u001b[0m",
            "\u001b[0;32m/usr/local/lib/python3.10/dist-packages/pandas/core/generic.py\u001b[0m in \u001b[0;36m__getattr__\u001b[0;34m(self, name)\u001b[0m\n\u001b[1;32m   5900\u001b[0m         ):\n\u001b[1;32m   5901\u001b[0m             \u001b[0;32mreturn\u001b[0m \u001b[0mself\u001b[0m\u001b[0;34m[\u001b[0m\u001b[0mname\u001b[0m\u001b[0;34m]\u001b[0m\u001b[0;34m\u001b[0m\u001b[0;34m\u001b[0m\u001b[0m\n\u001b[0;32m-> 5902\u001b[0;31m         \u001b[0;32mreturn\u001b[0m \u001b[0mobject\u001b[0m\u001b[0;34m.\u001b[0m\u001b[0m__getattribute__\u001b[0m\u001b[0;34m(\u001b[0m\u001b[0mself\u001b[0m\u001b[0;34m,\u001b[0m \u001b[0mname\u001b[0m\u001b[0;34m)\u001b[0m\u001b[0;34m\u001b[0m\u001b[0;34m\u001b[0m\u001b[0m\n\u001b[0m\u001b[1;32m   5903\u001b[0m \u001b[0;34m\u001b[0m\u001b[0m\n\u001b[1;32m   5904\u001b[0m     \u001b[0;32mdef\u001b[0m \u001b[0m__setattr__\u001b[0m\u001b[0;34m(\u001b[0m\u001b[0mself\u001b[0m\u001b[0;34m,\u001b[0m \u001b[0mname\u001b[0m\u001b[0;34m:\u001b[0m \u001b[0mstr\u001b[0m\u001b[0;34m,\u001b[0m \u001b[0mvalue\u001b[0m\u001b[0;34m)\u001b[0m \u001b[0;34m->\u001b[0m \u001b[0;32mNone\u001b[0m\u001b[0;34m:\u001b[0m\u001b[0;34m\u001b[0m\u001b[0;34m\u001b[0m\u001b[0m\n",
            "\u001b[0;32m/usr/local/lib/python3.10/dist-packages/pandas/core/accessor.py\u001b[0m in \u001b[0;36m__get__\u001b[0;34m(self, obj, cls)\u001b[0m\n\u001b[1;32m    180\u001b[0m             \u001b[0;31m# we're accessing the attribute of the class, i.e., Dataset.geo\u001b[0m\u001b[0;34m\u001b[0m\u001b[0;34m\u001b[0m\u001b[0m\n\u001b[1;32m    181\u001b[0m             \u001b[0;32mreturn\u001b[0m \u001b[0mself\u001b[0m\u001b[0;34m.\u001b[0m\u001b[0m_accessor\u001b[0m\u001b[0;34m\u001b[0m\u001b[0;34m\u001b[0m\u001b[0m\n\u001b[0;32m--> 182\u001b[0;31m         \u001b[0maccessor_obj\u001b[0m \u001b[0;34m=\u001b[0m \u001b[0mself\u001b[0m\u001b[0;34m.\u001b[0m\u001b[0m_accessor\u001b[0m\u001b[0;34m(\u001b[0m\u001b[0mobj\u001b[0m\u001b[0;34m)\u001b[0m\u001b[0;34m\u001b[0m\u001b[0;34m\u001b[0m\u001b[0m\n\u001b[0m\u001b[1;32m    183\u001b[0m         \u001b[0;31m# Replace the property with the accessor object. Inspired by:\u001b[0m\u001b[0;34m\u001b[0m\u001b[0;34m\u001b[0m\u001b[0m\n\u001b[1;32m    184\u001b[0m         \u001b[0;31m# https://www.pydanny.com/cached-property.html\u001b[0m\u001b[0;34m\u001b[0m\u001b[0;34m\u001b[0m\u001b[0m\n",
            "\u001b[0;32m/usr/local/lib/python3.10/dist-packages/pandas/core/indexes/accessors.py\u001b[0m in \u001b[0;36m__new__\u001b[0;34m(cls, data)\u001b[0m\n\u001b[1;32m    510\u001b[0m             \u001b[0;32mreturn\u001b[0m \u001b[0mPeriodProperties\u001b[0m\u001b[0;34m(\u001b[0m\u001b[0mdata\u001b[0m\u001b[0;34m,\u001b[0m \u001b[0morig\u001b[0m\u001b[0;34m)\u001b[0m\u001b[0;34m\u001b[0m\u001b[0;34m\u001b[0m\u001b[0m\n\u001b[1;32m    511\u001b[0m \u001b[0;34m\u001b[0m\u001b[0m\n\u001b[0;32m--> 512\u001b[0;31m         \u001b[0;32mraise\u001b[0m \u001b[0mAttributeError\u001b[0m\u001b[0;34m(\u001b[0m\u001b[0;34m\"Can only use .dt accessor with datetimelike values\"\u001b[0m\u001b[0;34m)\u001b[0m\u001b[0;34m\u001b[0m\u001b[0;34m\u001b[0m\u001b[0m\n\u001b[0m",
            "\u001b[0;31mAttributeError\u001b[0m: Can only use .dt accessor with datetimelike values"
          ]
        }
      ]
    },
    {
      "cell_type": "code",
      "source": [
        "numero_rutas = len(simulaciones)"
      ],
      "metadata": {
        "id": "noFIHyEkh1vv"
      },
      "execution_count": 65,
      "outputs": []
    },
    {
      "cell_type": "code",
      "source": [
        "numero_rutas"
      ],
      "metadata": {
        "colab": {
          "base_uri": "https://localhost:8080/"
        },
        "id": "PueThOHtiEdm",
        "outputId": "a7fa9461-10cc-4aaa-e93c-b74c8d30fdef"
      },
      "execution_count": 66,
      "outputs": [
        {
          "output_type": "execute_result",
          "data": {
            "text/plain": [
              "44363"
            ]
          },
          "metadata": {},
          "execution_count": 66
        }
      ]
    },
    {
      "cell_type": "markdown",
      "source": [
        "¿Cuántas rutas se simularon que la duración del viaje sea superior a 4 horas?"
      ],
      "metadata": {
        "id": "uayDk3CwqlHC"
      }
    },
    {
      "cell_type": "code",
      "source": [
        "df_renfe4[\"tiempo_viaje\"].hist()"
      ],
      "metadata": {
        "colab": {
          "base_uri": "https://localhost:8080/",
          "height": 448
        },
        "id": "ZxlnLT5_rgYg",
        "outputId": "7be728a1-173e-4638-ae0c-2b9ad8a57728"
      },
      "execution_count": 121,
      "outputs": [
        {
          "output_type": "execute_result",
          "data": {
            "text/plain": [
              "<Axes: >"
            ]
          },
          "metadata": {},
          "execution_count": 121
        },
        {
          "output_type": "display_data",
          "data": {
            "text/plain": [
              "<Figure size 640x480 with 1 Axes>"
            ],
            "image/png": "[encoded data removed]"
          },
          "metadata": {}
        }
      ]
    },
    {
      "cell_type": "code",
      "source": [
        "duracion_superior_4 = df_renfe4[df_renfe4['tiempo_viaje'] > 4]"
      ],
      "metadata": {
        "id": "BK6Gzq2AqhXw"
      },
      "execution_count": 122,
      "outputs": []
    },
    {
      "cell_type": "code",
      "source": [
        "numero_rutas_sup_4h = len(duracion_superior_4)"
      ],
      "metadata": {
        "id": "HKXBdKGGsJD6"
      },
      "execution_count": 123,
      "outputs": []
    },
    {
      "cell_type": "code",
      "source": [
        "\"Num de rutas con duración de viaje superior a 4 horas:\", numero_rutas_sup_4h"
      ],
      "metadata": {
        "colab": {
          "base_uri": "https://localhost:8080/"
        },
        "id": "Ew6CLLgAsJAj",
        "outputId": "fab9f7ea-0ec1-4865-c716-1ffe5b83f31b"
      },
      "execution_count": 125,
      "outputs": [
        {
          "output_type": "execute_result",
          "data": {
            "text/plain": [
              "('Num de rutas con duración de viaje superior a 4 horas:', 355028)"
            ]
          },
          "metadata": {},
          "execution_count": 125
        }
      ]
    },
    {
      "cell_type": "code",
      "source": [
        "numero_rutas = len(df_renfe)\n",
        "print(\"Número de rutas simuladas:\", numero_rutas)"
      ],
      "metadata": {
        "colab": {
          "base_uri": "https://localhost:8080/"
        },
        "id": "Srhm6wMys3is",
        "outputId": "9f570bc1-965e-4c75-ad24-557b6e993fbb"
      },
      "execution_count": 127,
      "outputs": [
        {
          "output_type": "stream",
          "name": "stdout",
          "text": [
            "Número de rutas simuladas: 383568\n"
          ]
        }
      ]
    },
    {
      "cell_type": "code",
      "source": [
        "numero_rutas = len(duracion_superior_4)\n",
        "print(\"Número de rutas simuladas:\", numero_rutas)"
      ],
      "metadata": {
        "colab": {
          "base_uri": "https://localhost:8080/"
        },
        "id": "emqh6pnCuLaU",
        "outputId": "afe6a8ba-80ce-4ef4-a474-192647e25341"
      },
      "execution_count": 128,
      "outputs": [
        {
          "output_type": "stream",
          "name": "stdout",
          "text": [
            "Número de rutas simuladas: 355028\n"
          ]
        }
      ]
    },
    {
      "cell_type": "markdown",
      "source": [
        "E. ¿Puedes decir cuál es la ciudad que menos simulaciones se han hecho como origen y cuántas simulaciones fueron?"
      ],
      "metadata": {
        "id": "5TK16Gd3v_86"
      }
    },
    {
      "cell_type": "markdown",
      "source": [
        "F. Calcular la clase más barata y la clase más cara"
      ],
      "metadata": {
        "id": "VmRc640FvhXO"
      }
    },
    {
      "cell_type": "code",
      "source": [
        "df_renfe4[\"CLASE\"].value_counts()"
      ],
      "metadata": {
        "colab": {
          "base_uri": "https://localhost:8080/"
        },
        "id": "tHwiLOlvzpzb",
        "outputId": "570bee93-d428-4e22-c2cf-e30810875716"
      },
      "execution_count": 133,
      "outputs": [
        {
          "output_type": "execute_result",
          "data": {
            "text/plain": [
              "Turista                     243860\n",
              "Sin valor                    35554\n",
              "Preferente                   30713\n",
              "Turista Plus                 23320\n",
              "Turista con enlace           19114\n",
              "TuristaSólo plaza H           1951\n",
              "PreferenteSólo plaza H         259\n",
              "Cama Turista                   240\n",
              "Cama G. Clase                   15\n",
              "Turista PlusSólo plaza H         2\n",
              "Name: CLASE, dtype: int64"
            ]
          },
          "metadata": {},
          "execution_count": 133
        }
      ]
    },
    {
      "cell_type": "code",
      "source": [
        "df_renfe.info()"
      ],
      "metadata": {
        "colab": {
          "base_uri": "https://localhost:8080/"
        },
        "id": "TULtU3ZzzYfP",
        "outputId": "7f7cf3be-f51f-4742-a422-cf4dd8870e20"
      },
      "execution_count": 131,
      "outputs": [
        {
          "output_type": "stream",
          "name": "stdout",
          "text": [
            "<class 'pandas.core.frame.DataFrame'>\n",
            "RangeIndex: 383568 entries, 0 to 383567\n",
            "Data columns (total 9 columns):\n",
            " #   Column          Non-Null Count   Dtype  \n",
            "---  ------          --------------   -----  \n",
            " 0   FECHA_CONSULTA  383568 non-null  object \n",
            " 1   FECHA_INICIO    383568 non-null  object \n",
            " 2   FECHA_FIN       383568 non-null  object \n",
            " 3   CIUDAD_ORIGEN   383568 non-null  object \n",
            " 4   CIUDAD_DESTINO  383568 non-null  object \n",
            " 5   TIPO_TREN       345211 non-null  object \n",
            " 6   TIPO_TARIFA     344009 non-null  object \n",
            " 7   CLASE           344000 non-null  object \n",
            " 8   PRECIO          355038 non-null  float64\n",
            "dtypes: float64(1), object(8)\n",
            "memory usage: 26.3+ MB\n"
          ]
        }
      ]
    },
    {
      "cell_type": "code",
      "source": [
        "df_renfe.describe()"
      ],
      "metadata": {
        "colab": {
          "base_uri": "https://localhost:8080/",
          "height": 300
        },
        "id": "nRwl9rcfzboa",
        "outputId": "3c8ed6cf-2329-49e1-db5d-6a81a66c6ae2"
      },
      "execution_count": 132,
      "outputs": [
        {
          "output_type": "execute_result",
          "data": {
            "text/plain": [
              "              PRECIO\n",
              "count  355038.000000\n",
              "mean       61.435380\n",
              "std        25.695934\n",
              "min         0.000000\n",
              "25%        41.200000\n",
              "50%        58.150000\n",
              "75%        76.300000\n",
              "max       342.800000"
            ],
            "text/html": [
              "\n",
              "  <div id=\"df-a2ec360a-ad60-43c1-83cb-f54f52d44636\" class=\"colab-df-container\">\n",
              "    <div>\n",
              "<style scoped>\n",
              "    .dataframe tbody tr th:only-of-type {\n",
              "        vertical-align: middle;\n",
              "    }\n",
              "\n",
              "    .dataframe tbody tr th {\n",
              "        vertical-align: top;\n",
              "    }\n",
              "\n",
              "    .dataframe thead th {\n",
              "        text-align: right;\n",
              "    }\n",
              "</style>\n",
              "<table border=\"1\" class=\"dataframe\">\n",
              "  <thead>\n",
              "    <tr style=\"text-align: right;\">\n",
              "      <th></th>\n",
              "      <th>PRECIO</th>\n",
              "    </tr>\n",
              "  </thead>\n",
              "  <tbody>\n",
              "    <tr>\n",
              "      <th>count</th>\n",
              "      <td>355038.000000</td>\n",
              "    </tr>\n",
              "    <tr>\n",
              "      <th>mean</th>\n",
              "      <td>61.435380</td>\n",
              "    </tr>\n",
              "    <tr>\n",
              "      <th>std</th>\n",
              "      <td>25.695934</td>\n",
              "    </tr>\n",
              "    <tr>\n",
              "      <th>min</th>\n",
              "      <td>0.000000</td>\n",
              "    </tr>\n",
              "    <tr>\n",
              "      <th>25%</th>\n",
              "      <td>41.200000</td>\n",
              "    </tr>\n",
              "    <tr>\n",
              "      <th>50%</th>\n",
              "      <td>58.150000</td>\n",
              "    </tr>\n",
              "    <tr>\n",
              "      <th>75%</th>\n",
              "      <td>76.300000</td>\n",
              "    </tr>\n",
              "    <tr>\n",
              "      <th>max</th>\n",
              "      <td>342.800000</td>\n",
              "    </tr>\n",
              "  </tbody>\n",
              "</table>\n",
              "</div>\n",
              "    <div class=\"colab-df-buttons\">\n",
              "\n",
              "  <div class=\"colab-df-container\">\n",
              "    <button class=\"colab-df-convert\" onclick=\"convertToInteractive('df-a2ec360a-ad60-43c1-83cb-f54f52d44636')\"\n",
              "            title=\"Convert this dataframe to an interactive table.\"\n",
              "            style=\"display:none;\">\n",
              "\n",
              "  <svg xmlns=\"http://www.w3.org/2000/svg\" height=\"24px\" viewBox=\"0 -960 960 960\">\n",
              "    <path d=\"M120-120v-720h720v720H120Zm60-500h600v-160H180v160Zm220 220h160v-160H400v160Zm0 220h160v-160H400v160ZM180-400h160v-160H180v160Zm440 0h160v-160H620v160ZM180-180h160v-160H180v160Zm440 0h160v-160H620v160Z\"/>\n",
              "  </svg>\n",
              "    </button>\n",
              "\n",
              "  <style>\n",
              "    .colab-df-container {\n",
              "      display:flex;\n",
              "      gap: 12px;\n",
              "    }\n",
              "\n",
              "    .colab-df-convert {\n",
              "      background-color: #E8F0FE;\n",
              "      border: none;\n",
              "      border-radius: 50%;\n",
              "      cursor: pointer;\n",
              "      display: none;\n",
              "      fill: #1967D2;\n",
              "      height: 32px;\n",
              "      padding: 0 0 0 0;\n",
              "      width: 32px;\n",
              "    }\n",
              "\n",
              "    .colab-df-convert:hover {\n",
              "      background-color: #E2EBFA;\n",
              "      box-shadow: 0px 1px 2px rgba(60, 64, 67, 0.3), 0px 1px 3px 1px rgba(60, 64, 67, 0.15);\n",
              "      fill: #174EA6;\n",
              "    }\n",
              "\n",
              "    .colab-df-buttons div {\n",
              "      margin-bottom: 4px;\n",
              "    }\n",
              "\n",
              "    [theme=dark] .colab-df-convert {\n",
              "      background-color: #3B4455;\n",
              "      fill: #D2E3FC;\n",
              "    }\n",
              "\n",
              "    [theme=dark] .colab-df-convert:hover {\n",
              "      background-color: #434B5C;\n",
              "      box-shadow: 0px 1px 3px 1px rgba(0, 0, 0, 0.15);\n",
              "      filter: drop-shadow(0px 1px 2px rgba(0, 0, 0, 0.3));\n",
              "      fill: #FFFFFF;\n",
              "    }\n",
              "  </style>\n",
              "\n",
              "    <script>\n",
              "      const buttonEl =\n",
              "        document.querySelector('#df-a2ec360a-ad60-43c1-83cb-f54f52d44636 button.colab-df-convert');\n",
              "      buttonEl.style.display =\n",
              "        google.colab.kernel.accessAllowed ? 'block' : 'none';\n",
              "\n",
              "      async function convertToInteractive(key) {\n",
              "        const element = document.querySelector('#df-a2ec360a-ad60-43c1-83cb-f54f52d44636');\n",
              "        const dataTable =\n",
              "          await google.colab.kernel.invokeFunction('convertToInteractive',\n",
              "                                                    [key], {});\n",
              "        if (!dataTable) return;\n",
              "\n",
              "        const docLinkHtml = 'Like what you see? Visit the ' +\n",
              "          '<a target=\"_blank\" href=https://colab.research.google.com/notebooks/data_table.ipynb>data table notebook</a>'\n",
              "          + ' to learn more about interactive tables.';\n",
              "        element.innerHTML = '';\n",
              "        dataTable['output_type'] = 'display_data';\n",
              "        await google.colab.output.renderOutput(dataTable, element);\n",
              "        const docLink = document.createElement('div');\n",
              "        docLink.innerHTML = docLinkHtml;\n",
              "        element.appendChild(docLink);\n",
              "      }\n",
              "    </script>\n",
              "  </div>\n",
              "\n",
              "\n",
              "<div id=\"df-0ee21b29-dc65-414b-a816-a9faffc5c9ea\">\n",
              "  <button class=\"colab-df-quickchart\" onclick=\"quickchart('df-0ee21b29-dc65-414b-a816-a9faffc5c9ea')\"\n",
              "            title=\"Suggest charts.\"\n",
              "            style=\"display:none;\">\n",
              "\n",
              "<svg xmlns=\"http://www.w3.org/2000/svg\" height=\"24px\"viewBox=\"0 0 24 24\"\n",
              "     width=\"24px\">\n",
              "    <g>\n",
              "        <path d=\"M19 3H5c-1.1 0-2 .9-2 2v14c0 1.1.9 2 2 2h14c1.1 0 2-.9 2-2V5c0-1.1-.9-2-2-2zM9 17H7v-7h2v7zm4 0h-2V7h2v10zm4 0h-2v-4h2v4z\"/>\n",
              "    </g>\n",
              "</svg>\n",
              "  </button>\n",
              "\n",
              "<style>\n",
              "  .colab-df-quickchart {\n",
              "      --bg-color: #E8F0FE;\n",
              "      --fill-color: #1967D2;\n",
              "      --hover-bg-color: #E2EBFA;\n",
              "      --hover-fill-color: #174EA6;\n",
              "      --disabled-fill-color: #AAA;\n",
              "      --disabled-bg-color: #DDD;\n",
              "  }\n",
              "\n",
              "  [theme=dark] .colab-df-quickchart {\n",
              "      --bg-color: #3B4455;\n",
              "      --fill-color: #D2E3FC;\n",
              "      --hover-bg-color: #434B5C;\n",
              "      --hover-fill-color: #FFFFFF;\n",
              "      --disabled-bg-color: #3B4455;\n",
              "      --disabled-fill-color: #666;\n",
              "  }\n",
              "\n",
              "  .colab-df-quickchart {\n",
              "    background-color: var(--bg-color);\n",
              "    border: none;\n",
              "    border-radius: 50%;\n",
              "    cursor: pointer;\n",
              "    display: none;\n",
              "    fill: var(--fill-color);\n",
              "    height: 32px;\n",
              "    padding: 0;\n",
              "    width: 32px;\n",
              "  }\n",
              "\n",
              "  .colab-df-quickchart:hover {\n",
              "    background-color: var(--hover-bg-color);\n",
              "    box-shadow: 0 1px 2px rgba(60, 64, 67, 0.3), 0 1px 3px 1px rgba(60, 64, 67, 0.15);\n",
              "    fill: var(--button-hover-fill-color);\n",
              "  }\n",
              "\n",
              "  .colab-df-quickchart-complete:disabled,\n",
              "  .colab-df-quickchart-complete:disabled:hover {\n",
              "    background-color: var(--disabled-bg-color);\n",
              "    fill: var(--disabled-fill-color);\n",
              "    box-shadow: none;\n",
              "  }\n",
              "\n",
              "  .colab-df-spinner {\n",
              "    border: 2px solid var(--fill-color);\n",
              "    border-color: transparent;\n",
              "    border-bottom-color: var(--fill-color);\n",
              "    animation:\n",
              "      spin 1s steps(1) infinite;\n",
              "  }\n",
              "\n",
              "  @keyframes spin {\n",
              "    0% {\n",
              "      border-color: transparent;\n",
              "      border-bottom-color: var(--fill-color);\n",
              "      border-left-color: var(--fill-color);\n",
              "    }\n",
              "    20% {\n",
              "      border-color: transparent;\n",
              "      border-left-color: var(--fill-color);\n",
              "      border-top-color: var(--fill-color);\n",
              "    }\n",
              "    30% {\n",
              "      border-color: transparent;\n",
              "      border-left-color: var(--fill-color);\n",
              "      border-top-color: var(--fill-color);\n",
              "      border-right-color: var(--fill-color);\n",
              "    }\n",
              "    40% {\n",
              "      border-color: transparent;\n",
              "      border-right-color: var(--fill-color);\n",
              "      border-top-color: var(--fill-color);\n",
              "    }\n",
              "    60% {\n",
              "      border-color: transparent;\n",
              "      border-right-color: var(--fill-color);\n",
              "    }\n",
              "    80% {\n",
              "      border-color: transparent;\n",
              "      border-right-color: var(--fill-color);\n",
              "      border-bottom-color: var(--fill-color);\n",
              "    }\n",
              "    90% {\n",
              "      border-color: transparent;\n",
              "      border-bottom-color: var(--fill-color);\n",
              "    }\n",
              "  }\n",
              "</style>\n",
              "\n",
              "  <script>\n",
              "    async function quickchart(key) {\n",
              "      const quickchartButtonEl =\n",
              "        document.querySelector('#' + key + ' button');\n",
              "      quickchartButtonEl.disabled = true;  // To prevent multiple clicks.\n",
              "      quickchartButtonEl.classList.add('colab-df-spinner');\n",
              "      try {\n",
              "        const charts = await google.colab.kernel.invokeFunction(\n",
              "            'suggestCharts', [key], {});\n",
              "      } catch (error) {\n",
              "        console.error('Error during call to suggestCharts:', error);\n",
              "      }\n",
              "      quickchartButtonEl.classList.remove('colab-df-spinner');\n",
              "      quickchartButtonEl.classList.add('colab-df-quickchart-complete');\n",
              "    }\n",
              "    (() => {\n",
              "      let quickchartButtonEl =\n",
              "        document.querySelector('#df-0ee21b29-dc65-414b-a816-a9faffc5c9ea button');\n",
              "      quickchartButtonEl.style.display =\n",
              "        google.colab.kernel.accessAllowed ? 'block' : 'none';\n",
              "    })();\n",
              "  </script>\n",
              "</div>\n",
              "    </div>\n",
              "  </div>\n"
            ]
          },
          "metadata": {},
          "execution_count": 132
        }
      ]
    },
    {
      "cell_type": "markdown",
      "source": [
        "G. Calcular la tarifa más cara en el mes de viaje en septiembre de 2019"
      ],
      "metadata": {
        "id": "KadBljgB0dGC"
      }
    },
    {
      "cell_type": "markdown",
      "source": [
        "H. ¿En promedio cuál es el tipo de tren más barato y de cuánto?"
      ],
      "metadata": {
        "id": "tt9vT_re0TDZ"
      }
    },
    {
      "cell_type": "markdown",
      "source": [
        "I. ¿Cuántas rutas se simularon entre origen MADRID y destino BARCELONA?"
      ],
      "metadata": {
        "id": "jMyecquP0Nfc"
      }
    },
    {
      "cell_type": "markdown",
      "source": [
        "J. En promedio ¿Cuál es el mes más barato para viajar desde BARCELONA a MADRID en AVE y de cuánto?"
      ],
      "metadata": {
        "id": "d6RSwkbVy9jx"
      }
    },
    {
      "cell_type": "code",
      "source": [
        "df_renfe4[\"TIPO_TREN\"].value_counts()"
      ],
      "metadata": {
        "colab": {
          "base_uri": "https://localhost:8080/"
        },
        "id": "1K1vAFf5zJkF",
        "outputId": "fc77a248-3bae-4c7b-d1ef-d073092fa118"
      },
      "execution_count": 130,
      "outputs": [
        {
          "output_type": "execute_result",
          "data": {
            "text/plain": [
              "AVE              226696\n",
              "SIN_CATEGORIA     35443\n",
              "ALVIA             19043\n",
              "REGIONAL          16591\n",
              "INTERCITY         16431\n",
              "AV City            9214\n",
              "MD-LD              6779\n",
              "AVE-TGV            4456\n",
              "R. EXPRES          4131\n",
              "TRENHOTEL          3789\n",
              "LD                 3649\n",
              "AVE-LD             2857\n",
              "AVE-MD             2351\n",
              "LD-MD              2346\n",
              "MD-AVE              763\n",
              "MD                  489\n",
              "Name: TIPO_TREN, dtype: int64"
            ]
          },
          "metadata": {},
          "execution_count": 130
        }
      ]
    },
    {
      "cell_type": "code",
      "source": [
        "\n",
        "df_renfe4[(df_renfe4['TIPO_TREN']=='AVE') & (df_renfe4['CIUDAD_ORIGEN']=='BARCELONA') & (df_renfe4['CIUDAD_DESTINO']=='MADRID')]\n"
      ],
      "metadata": {
        "colab": {
          "base_uri": "https://localhost:8080/",
          "height": 495
        },
        "id": "6zzbmbgxw3WJ",
        "outputId": "8e670ca4-57be-44c3-880f-0b9ba8233fbd"
      },
      "execution_count": 134,
      "outputs": [
        {
          "output_type": "execute_result",
          "data": {
            "text/plain": [
              "       CIUDAD_ORIGEN CIUDAD_DESTINO TIPO_TREN TIPO_TARIFA         CLASE  \\\n",
              "1          BARCELONA         MADRID       AVE    Flexible       Turista   \n",
              "14         BARCELONA         MADRID       AVE       Promo       Turista   \n",
              "15         BARCELONA         MADRID       AVE   Sin valor       Turista   \n",
              "22         BARCELONA         MADRID       AVE   Sin valor    Preferente   \n",
              "39         BARCELONA         MADRID       AVE   Sin valor  Turista Plus   \n",
              "...              ...            ...       ...         ...           ...   \n",
              "383514     BARCELONA         MADRID       AVE       Promo  Turista Plus   \n",
              "383524     BARCELONA         MADRID       AVE   Sin valor       Turista   \n",
              "383553     BARCELONA         MADRID       AVE       Promo  Turista Plus   \n",
              "383560     BARCELONA         MADRID       AVE   Sin valor       Turista   \n",
              "383564     BARCELONA         MADRID       AVE       Promo    Preferente   \n",
              "\n",
              "        PRECIO  tiempo_viaje   Dif_Ini_Bus  FECHA_CONSULTA_HORA  \\\n",
              "1       107.70         190.0  31494.816667                   13   \n",
              "14       75.40         190.0  69171.483333                   19   \n",
              "15      107.70         170.0  76428.266667                   15   \n",
              "22       68.95         165.0  84214.200000                    1   \n",
              "39       80.15         190.0  52125.300000                   11   \n",
              "...        ...           ...           ...                  ...   \n",
              "383514  102.15         165.0  51957.316667                    7   \n",
              "383524   66.75         190.0  45882.183333                   17   \n",
              "383553   90.50         190.0  32929.133333                   21   \n",
              "383560   85.10         165.0  56996.133333                   21   \n",
              "383564   54.45         190.0  67571.066667                   21   \n",
              "\n",
              "       FECHA_CONSULTA_NOMBREDIA  FECHA_CONSULTA_DIA  FECHA_CONSULTA_MES  \\\n",
              "1                      Saturday                  22                   6   \n",
              "14                    Wednesday                  12                   6   \n",
              "15                     Saturday                  18                   5   \n",
              "22                     Saturday                   8                   6   \n",
              "39                       Sunday                  19                   5   \n",
              "...                         ...                 ...                 ...   \n",
              "383514                 Thursday                  18                   4   \n",
              "383524                   Sunday                  12                   5   \n",
              "383553                Wednesday                  24                   4   \n",
              "383560                 Thursday                   1                   8   \n",
              "383564                Wednesday                  19                   6   \n",
              "\n",
              "        FECHA_INICIO_HORA FECHA_INICIO_NOMBREDIA  FECHA_INICIO_DIA  \\\n",
              "1                      10                 Sunday                14   \n",
              "14                     20                Tuesday                30   \n",
              "15                     17              Wednesday                10   \n",
              "22                     13                 Monday                 5   \n",
              "39                     16                 Monday                24   \n",
              "...                   ...                    ...               ...   \n",
              "383514                  9                 Friday                24   \n",
              "383524                 14               Thursday                13   \n",
              "383553                 18                 Friday                17   \n",
              "383560                 11                Tuesday                10   \n",
              "383564                 20                 Monday                 5   \n",
              "\n",
              "        FECHA_INICIO_MES  FECHA_FIN_HORA FECHA_FIN_NOMBREDIA  FECHA_FIN_DIA  \\\n",
              "1                      7              13              Sunday             14   \n",
              "14                     7              23             Tuesday             30   \n",
              "15                     7              19           Wednesday             10   \n",
              "22                     8              16              Monday              5   \n",
              "39                     6              19              Monday             24   \n",
              "...                  ...             ...                 ...            ...   \n",
              "383514                 5              11              Friday             24   \n",
              "383524                 6              17            Thursday             13   \n",
              "383553                 5              21              Friday             17   \n",
              "383560                 9              13             Tuesday             10   \n",
              "383564                 8              23              Monday              5   \n",
              "\n",
              "        FECHA_FIN_MES  \n",
              "1                   7  \n",
              "14                  7  \n",
              "15                  7  \n",
              "22                  8  \n",
              "39                  6  \n",
              "...               ...  \n",
              "383514              5  \n",
              "383524              6  \n",
              "383553              5  \n",
              "383560              9  \n",
              "383564              8  \n",
              "\n",
              "[49216 rows x 20 columns]"
            ],
            "text/html": [
              "\n",
              "  <div id=\"df-ca4c46d9-dd9f-4138-b45d-8e414a533d62\" class=\"colab-df-container\">\n",
              "    <div>\n",
              "<style scoped>\n",
              "    .dataframe tbody tr th:only-of-type {\n",
              "        vertical-align: middle;\n",
              "    }\n",
              "\n",
              "    .dataframe tbody tr th {\n",
              "        vertical-align: top;\n",
              "    }\n",
              "\n",
              "    .dataframe thead th {\n",
              "        text-align: right;\n",
              "    }\n",
              "</style>\n",
              "<table border=\"1\" class=\"dataframe\">\n",
              "  <thead>\n",
              "    <tr style=\"text-align: right;\">\n",
              "      <th></th>\n",
              "      <th>CIUDAD_ORIGEN</th>\n",
              "      <th>CIUDAD_DESTINO</th>\n",
              "      <th>TIPO_TREN</th>\n",
              "      <th>TIPO_TARIFA</th>\n",
              "      <th>CLASE</th>\n",
              "      <th>PRECIO</th>\n",
              "      <th>tiempo_viaje</th>\n",
              "      <th>Dif_Ini_Bus</th>\n",
              "      <th>FECHA_CONSULTA_HORA</th>\n",
              "      <th>FECHA_CONSULTA_NOMBREDIA</th>\n",
              "      <th>FECHA_CONSULTA_DIA</th>\n",
              "      <th>FECHA_CONSULTA_MES</th>\n",
              "      <th>FECHA_INICIO_HORA</th>\n",
              "      <th>FECHA_INICIO_NOMBREDIA</th>\n",
              "      <th>FECHA_INICIO_DIA</th>\n",
              "      <th>FECHA_INICIO_MES</th>\n",
              "      <th>FECHA_FIN_HORA</th>\n",
              "      <th>FECHA_FIN_NOMBREDIA</th>\n",
              "      <th>FECHA_FIN_DIA</th>\n",
              "      <th>FECHA_FIN_MES</th>\n",
              "    </tr>\n",
              "  </thead>\n",
              "  <tbody>\n",
              "    <tr>\n",
              "      <th>1</th>\n",
              "      <td>BARCELONA</td>\n",
              "      <td>MADRID</td>\n",
              "      <td>AVE</td>\n",
              "      <td>Flexible</td>\n",
              "      <td>Turista</td>\n",
              "      <td>107.70</td>\n",
              "      <td>190.0</td>\n",
              "      <td>31494.816667</td>\n",
              "      <td>13</td>\n",
              "      <td>Saturday</td>\n",
              "      <td>22</td>\n",
              "      <td>6</td>\n",
              "      <td>10</td>\n",
              "      <td>Sunday</td>\n",
              "      <td>14</td>\n",
              "      <td>7</td>\n",
              "      <td>13</td>\n",
              "      <td>Sunday</td>\n",
              "      <td>14</td>\n",
              "      <td>7</td>\n",
              "    </tr>\n",
              "    <tr>\n",
              "      <th>14</th>\n",
              "      <td>BARCELONA</td>\n",
              "      <td>MADRID</td>\n",
              "      <td>AVE</td>\n",
              "      <td>Promo</td>\n",
              "      <td>Turista</td>\n",
              "      <td>75.40</td>\n",
              "      <td>190.0</td>\n",
              "      <td>69171.483333</td>\n",
              "      <td>19</td>\n",
              "      <td>Wednesday</td>\n",
              "      <td>12</td>\n",
              "      <td>6</td>\n",
              "      <td>20</td>\n",
              "      <td>Tuesday</td>\n",
              "      <td>30</td>\n",
              "      <td>7</td>\n",
              "      <td>23</td>\n",
              "      <td>Tuesday</td>\n",
              "      <td>30</td>\n",
              "      <td>7</td>\n",
              "    </tr>\n",
              "    <tr>\n",
              "      <th>15</th>\n",
              "      <td>BARCELONA</td>\n",
              "      <td>MADRID</td>\n",
              "      <td>AVE</td>\n",
              "      <td>Sin valor</td>\n",
              "      <td>Turista</td>\n",
              "      <td>107.70</td>\n",
              "      <td>170.0</td>\n",
              "      <td>76428.266667</td>\n",
              "      <td>15</td>\n",
              "      <td>Saturday</td>\n",
              "      <td>18</td>\n",
              "      <td>5</td>\n",
              "      <td>17</td>\n",
              "      <td>Wednesday</td>\n",
              "      <td>10</td>\n",
              "      <td>7</td>\n",
              "      <td>19</td>\n",
              "      <td>Wednesday</td>\n",
              "      <td>10</td>\n",
              "      <td>7</td>\n",
              "    </tr>\n",
              "    <tr>\n",
              "      <th>22</th>\n",
              "      <td>BARCELONA</td>\n",
              "      <td>MADRID</td>\n",
              "      <td>AVE</td>\n",
              "      <td>Sin valor</td>\n",
              "      <td>Preferente</td>\n",
              "      <td>68.95</td>\n",
              "      <td>165.0</td>\n",
              "      <td>84214.200000</td>\n",
              "      <td>1</td>\n",
              "      <td>Saturday</td>\n",
              "      <td>8</td>\n",
              "      <td>6</td>\n",
              "      <td>13</td>\n",
              "      <td>Monday</td>\n",
              "      <td>5</td>\n",
              "      <td>8</td>\n",
              "      <td>16</td>\n",
              "      <td>Monday</td>\n",
              "      <td>5</td>\n",
              "      <td>8</td>\n",
              "    </tr>\n",
              "    <tr>\n",
              "      <th>39</th>\n",
              "      <td>BARCELONA</td>\n",
              "      <td>MADRID</td>\n",
              "      <td>AVE</td>\n",
              "      <td>Sin valor</td>\n",
              "      <td>Turista Plus</td>\n",
              "      <td>80.15</td>\n",
              "      <td>190.0</td>\n",
              "      <td>52125.300000</td>\n",
              "      <td>11</td>\n",
              "      <td>Sunday</td>\n",
              "      <td>19</td>\n",
              "      <td>5</td>\n",
              "      <td>16</td>\n",
              "      <td>Monday</td>\n",
              "      <td>24</td>\n",
              "      <td>6</td>\n",
              "      <td>19</td>\n",
              "      <td>Monday</td>\n",
              "      <td>24</td>\n",
              "      <td>6</td>\n",
              "    </tr>\n",
              "    <tr>\n",
              "      <th>...</th>\n",
              "      <td>...</td>\n",
              "      <td>...</td>\n",
              "      <td>...</td>\n",
              "      <td>...</td>\n",
              "      <td>...</td>\n",
              "      <td>...</td>\n",
              "      <td>...</td>\n",
              "      <td>...</td>\n",
              "      <td>...</td>\n",
              "      <td>...</td>\n",
              "      <td>...</td>\n",
              "      <td>...</td>\n",
              "      <td>...</td>\n",
              "      <td>...</td>\n",
              "      <td>...</td>\n",
              "      <td>...</td>\n",
              "      <td>...</td>\n",
              "      <td>...</td>\n",
              "      <td>...</td>\n",
              "      <td>...</td>\n",
              "    </tr>\n",
              "    <tr>\n",
              "      <th>383514</th>\n",
              "      <td>BARCELONA</td>\n",
              "      <td>MADRID</td>\n",
              "      <td>AVE</td>\n",
              "      <td>Promo</td>\n",
              "      <td>Turista Plus</td>\n",
              "      <td>102.15</td>\n",
              "      <td>165.0</td>\n",
              "      <td>51957.316667</td>\n",
              "      <td>7</td>\n",
              "      <td>Thursday</td>\n",
              "      <td>18</td>\n",
              "      <td>4</td>\n",
              "      <td>9</td>\n",
              "      <td>Friday</td>\n",
              "      <td>24</td>\n",
              "      <td>5</td>\n",
              "      <td>11</td>\n",
              "      <td>Friday</td>\n",
              "      <td>24</td>\n",
              "      <td>5</td>\n",
              "    </tr>\n",
              "    <tr>\n",
              "      <th>383524</th>\n",
              "      <td>BARCELONA</td>\n",
              "      <td>MADRID</td>\n",
              "      <td>AVE</td>\n",
              "      <td>Sin valor</td>\n",
              "      <td>Turista</td>\n",
              "      <td>66.75</td>\n",
              "      <td>190.0</td>\n",
              "      <td>45882.183333</td>\n",
              "      <td>17</td>\n",
              "      <td>Sunday</td>\n",
              "      <td>12</td>\n",
              "      <td>5</td>\n",
              "      <td>14</td>\n",
              "      <td>Thursday</td>\n",
              "      <td>13</td>\n",
              "      <td>6</td>\n",
              "      <td>17</td>\n",
              "      <td>Thursday</td>\n",
              "      <td>13</td>\n",
              "      <td>6</td>\n",
              "    </tr>\n",
              "    <tr>\n",
              "      <th>383553</th>\n",
              "      <td>BARCELONA</td>\n",
              "      <td>MADRID</td>\n",
              "      <td>AVE</td>\n",
              "      <td>Promo</td>\n",
              "      <td>Turista Plus</td>\n",
              "      <td>90.50</td>\n",
              "      <td>190.0</td>\n",
              "      <td>32929.133333</td>\n",
              "      <td>21</td>\n",
              "      <td>Wednesday</td>\n",
              "      <td>24</td>\n",
              "      <td>4</td>\n",
              "      <td>18</td>\n",
              "      <td>Friday</td>\n",
              "      <td>17</td>\n",
              "      <td>5</td>\n",
              "      <td>21</td>\n",
              "      <td>Friday</td>\n",
              "      <td>17</td>\n",
              "      <td>5</td>\n",
              "    </tr>\n",
              "    <tr>\n",
              "      <th>383560</th>\n",
              "      <td>BARCELONA</td>\n",
              "      <td>MADRID</td>\n",
              "      <td>AVE</td>\n",
              "      <td>Sin valor</td>\n",
              "      <td>Turista</td>\n",
              "      <td>85.10</td>\n",
              "      <td>165.0</td>\n",
              "      <td>56996.133333</td>\n",
              "      <td>21</td>\n",
              "      <td>Thursday</td>\n",
              "      <td>1</td>\n",
              "      <td>8</td>\n",
              "      <td>11</td>\n",
              "      <td>Tuesday</td>\n",
              "      <td>10</td>\n",
              "      <td>9</td>\n",
              "      <td>13</td>\n",
              "      <td>Tuesday</td>\n",
              "      <td>10</td>\n",
              "      <td>9</td>\n",
              "    </tr>\n",
              "    <tr>\n",
              "      <th>383564</th>\n",
              "      <td>BARCELONA</td>\n",
              "      <td>MADRID</td>\n",
              "      <td>AVE</td>\n",
              "      <td>Promo</td>\n",
              "      <td>Preferente</td>\n",
              "      <td>54.45</td>\n",
              "      <td>190.0</td>\n",
              "      <td>67571.066667</td>\n",
              "      <td>21</td>\n",
              "      <td>Wednesday</td>\n",
              "      <td>19</td>\n",
              "      <td>6</td>\n",
              "      <td>20</td>\n",
              "      <td>Monday</td>\n",
              "      <td>5</td>\n",
              "      <td>8</td>\n",
              "      <td>23</td>\n",
              "      <td>Monday</td>\n",
              "      <td>5</td>\n",
              "      <td>8</td>\n",
              "    </tr>\n",
              "  </tbody>\n",
              "</table>\n",
              "<p>49216 rows × 20 columns</p>\n",
              "</div>\n",
              "    <div class=\"colab-df-buttons\">\n",
              "\n",
              "  <div class=\"colab-df-container\">\n",
              "    <button class=\"colab-df-convert\" onclick=\"convertToInteractive('df-ca4c46d9-dd9f-4138-b45d-8e414a533d62')\"\n",
              "            title=\"Convert this dataframe to an interactive table.\"\n",
              "            style=\"display:none;\">\n",
              "\n",
              "  <svg xmlns=\"http://www.w3.org/2000/svg\" height=\"24px\" viewBox=\"0 -960 960 960\">\n",
              "    <path d=\"M120-120v-720h720v720H120Zm60-500h600v-160H180v160Zm220 220h160v-160H400v160Zm0 220h160v-160H400v160ZM180-400h160v-160H180v160Zm440 0h160v-160H620v160ZM180-180h160v-160H180v160Zm440 0h160v-160H620v160Z\"/>\n",
              "  </svg>\n",
              "    </button>\n",
              "\n",
              "  <style>\n",
              "    .colab-df-container {\n",
              "      display:flex;\n",
              "      gap: 12px;\n",
              "    }\n",
              "\n",
              "    .colab-df-convert {\n",
              "      background-color: #E8F0FE;\n",
              "      border: none;\n",
              "      border-radius: 50%;\n",
              "      cursor: pointer;\n",
              "      display: none;\n",
              "      fill: #1967D2;\n",
              "      height: 32px;\n",
              "      padding: 0 0 0 0;\n",
              "      width: 32px;\n",
              "    }\n",
              "\n",
              "    .colab-df-convert:hover {\n",
              "      background-color: #E2EBFA;\n",
              "      box-shadow: 0px 1px 2px rgba(60, 64, 67, 0.3), 0px 1px 3px 1px rgba(60, 64, 67, 0.15);\n",
              "      fill: #174EA6;\n",
              "    }\n",
              "\n",
              "    .colab-df-buttons div {\n",
              "      margin-bottom: 4px;\n",
              "    }\n",
              "\n",
              "    [theme=dark] .colab-df-convert {\n",
              "      background-color: #3B4455;\n",
              "      fill: #D2E3FC;\n",
              "    }\n",
              "\n",
              "    [theme=dark] .colab-df-convert:hover {\n",
              "      background-color: #434B5C;\n",
              "      box-shadow: 0px 1px 3px 1px rgba(0, 0, 0, 0.15);\n",
              "      filter: drop-shadow(0px 1px 2px rgba(0, 0, 0, 0.3));\n",
              "      fill: #FFFFFF;\n",
              "    }\n",
              "  </style>\n",
              "\n",
              "    <script>\n",
              "      const buttonEl =\n",
              "        document.querySelector('#df-ca4c46d9-dd9f-4138-b45d-8e414a533d62 button.colab-df-convert');\n",
              "      buttonEl.style.display =\n",
              "        google.colab.kernel.accessAllowed ? 'block' : 'none';\n",
              "\n",
              "      async function convertToInteractive(key) {\n",
              "        const element = document.querySelector('#df-ca4c46d9-dd9f-4138-b45d-8e414a533d62');\n",
              "        const dataTable =\n",
              "          await google.colab.kernel.invokeFunction('convertToInteractive',\n",
              "                                                    [key], {});\n",
              "        if (!dataTable) return;\n",
              "\n",
              "        const docLinkHtml = 'Like what you see? Visit the ' +\n",
              "          '<a target=\"_blank\" href=https://colab.research.google.com/notebooks/data_table.ipynb>data table notebook</a>'\n",
              "          + ' to learn more about interactive tables.';\n",
              "        element.innerHTML = '';\n",
              "        dataTable['output_type'] = 'display_data';\n",
              "        await google.colab.output.renderOutput(dataTable, element);\n",
              "        const docLink = document.createElement('div');\n",
              "        docLink.innerHTML = docLinkHtml;\n",
              "        element.appendChild(docLink);\n",
              "      }\n",
              "    </script>\n",
              "  </div>\n",
              "\n",
              "\n",
              "<div id=\"df-8382a186-3100-453b-9ff9-cebca6d4dc6d\">\n",
              "  <button class=\"colab-df-quickchart\" onclick=\"quickchart('df-8382a186-3100-453b-9ff9-cebca6d4dc6d')\"\n",
              "            title=\"Suggest charts.\"\n",
              "            style=\"display:none;\">\n",
              "\n",
              "<svg xmlns=\"http://www.w3.org/2000/svg\" height=\"24px\"viewBox=\"0 0 24 24\"\n",
              "     width=\"24px\">\n",
              "    <g>\n",
              "        <path d=\"M19 3H5c-1.1 0-2 .9-2 2v14c0 1.1.9 2 2 2h14c1.1 0 2-.9 2-2V5c0-1.1-.9-2-2-2zM9 17H7v-7h2v7zm4 0h-2V7h2v10zm4 0h-2v-4h2v4z\"/>\n",
              "    </g>\n",
              "</svg>\n",
              "  </button>\n",
              "\n",
              "<style>\n",
              "  .colab-df-quickchart {\n",
              "      --bg-color: #E8F0FE;\n",
              "      --fill-color: #1967D2;\n",
              "      --hover-bg-color: #E2EBFA;\n",
              "      --hover-fill-color: #174EA6;\n",
              "      --disabled-fill-color: #AAA;\n",
              "      --disabled-bg-color: #DDD;\n",
              "  }\n",
              "\n",
              "  [theme=dark] .colab-df-quickchart {\n",
              "      --bg-color: #3B4455;\n",
              "      --fill-color: #D2E3FC;\n",
              "      --hover-bg-color: #434B5C;\n",
              "      --hover-fill-color: #FFFFFF;\n",
              "      --disabled-bg-color: #3B4455;\n",
              "      --disabled-fill-color: #666;\n",
              "  }\n",
              "\n",
              "  .colab-df-quickchart {\n",
              "    background-color: var(--bg-color);\n",
              "    border: none;\n",
              "    border-radius: 50%;\n",
              "    cursor: pointer;\n",
              "    display: none;\n",
              "    fill: var(--fill-color);\n",
              "    height: 32px;\n",
              "    padding: 0;\n",
              "    width: 32px;\n",
              "  }\n",
              "\n",
              "  .colab-df-quickchart:hover {\n",
              "    background-color: var(--hover-bg-color);\n",
              "    box-shadow: 0 1px 2px rgba(60, 64, 67, 0.3), 0 1px 3px 1px rgba(60, 64, 67, 0.15);\n",
              "    fill: var(--button-hover-fill-color);\n",
              "  }\n",
              "\n",
              "  .colab-df-quickchart-complete:disabled,\n",
              "  .colab-df-quickchart-complete:disabled:hover {\n",
              "    background-color: var(--disabled-bg-color);\n",
              "    fill: var(--disabled-fill-color);\n",
              "    box-shadow: none;\n",
              "  }\n",
              "\n",
              "  .colab-df-spinner {\n",
              "    border: 2px solid var(--fill-color);\n",
              "    border-color: transparent;\n",
              "    border-bottom-color: var(--fill-color);\n",
              "    animation:\n",
              "      spin 1s steps(1) infinite;\n",
              "  }\n",
              "\n",
              "  @keyframes spin {\n",
              "    0% {\n",
              "      border-color: transparent;\n",
              "      border-bottom-color: var(--fill-color);\n",
              "      border-left-color: var(--fill-color);\n",
              "    }\n",
              "    20% {\n",
              "      border-color: transparent;\n",
              "      border-left-color: var(--fill-color);\n",
              "      border-top-color: var(--fill-color);\n",
              "    }\n",
              "    30% {\n",
              "      border-color: transparent;\n",
              "      border-left-color: var(--fill-color);\n",
              "      border-top-color: var(--fill-color);\n",
              "      border-right-color: var(--fill-color);\n",
              "    }\n",
              "    40% {\n",
              "      border-color: transparent;\n",
              "      border-right-color: var(--fill-color);\n",
              "      border-top-color: var(--fill-color);\n",
              "    }\n",
              "    60% {\n",
              "      border-color: transparent;\n",
              "      border-right-color: var(--fill-color);\n",
              "    }\n",
              "    80% {\n",
              "      border-color: transparent;\n",
              "      border-right-color: var(--fill-color);\n",
              "      border-bottom-color: var(--fill-color);\n",
              "    }\n",
              "    90% {\n",
              "      border-color: transparent;\n",
              "      border-bottom-color: var(--fill-color);\n",
              "    }\n",
              "  }\n",
              "</style>\n",
              "\n",
              "  <script>\n",
              "    async function quickchart(key) {\n",
              "      const quickchartButtonEl =\n",
              "        document.querySelector('#' + key + ' button');\n",
              "      quickchartButtonEl.disabled = true;  // To prevent multiple clicks.\n",
              "      quickchartButtonEl.classList.add('colab-df-spinner');\n",
              "      try {\n",
              "        const charts = await google.colab.kernel.invokeFunction(\n",
              "            'suggestCharts', [key], {});\n",
              "      } catch (error) {\n",
              "        console.error('Error during call to suggestCharts:', error);\n",
              "      }\n",
              "      quickchartButtonEl.classList.remove('colab-df-spinner');\n",
              "      quickchartButtonEl.classList.add('colab-df-quickchart-complete');\n",
              "    }\n",
              "    (() => {\n",
              "      let quickchartButtonEl =\n",
              "        document.querySelector('#df-8382a186-3100-453b-9ff9-cebca6d4dc6d button');\n",
              "      quickchartButtonEl.style.display =\n",
              "        google.colab.kernel.accessAllowed ? 'block' : 'none';\n",
              "    })();\n",
              "  </script>\n",
              "</div>\n",
              "    </div>\n",
              "  </div>\n"
            ]
          },
          "metadata": {},
          "execution_count": 134
        }
      ]
    },
    {
      "cell_type": "code",
      "source": [
        "#PREGUNTA 10"
      ],
      "metadata": {
        "id": "ikAOHWMoqCs1"
      },
      "execution_count": null,
      "outputs": []
    },
    {
      "cell_type": "code",
      "source": [],
      "metadata": {
        "id": "WlfRuYKzqC0x"
      },
      "execution_count": null,
      "outputs": []
    }
  ]
}